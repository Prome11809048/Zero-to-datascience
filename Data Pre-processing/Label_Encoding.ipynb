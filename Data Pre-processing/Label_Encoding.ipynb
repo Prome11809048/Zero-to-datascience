{
  "nbformat": 4,
  "nbformat_minor": 0,
  "metadata": {
    "colab": {
      "provenance": []
    },
    "kernelspec": {
      "name": "python3",
      "display_name": "Python 3"
    },
    "language_info": {
      "name": "python"
    }
  },
  "cells": [
    {
      "cell_type": "markdown",
      "source": [
        "Label Encoding\n",
        "   Convert the labels into numeric form"
      ],
      "metadata": {
        "id": "lBmNbxIckBIo"
      }
    },
    {
      "cell_type": "code",
      "source": [
        "# Importing the dependencies\n",
        "import pandas as pd\n",
        "from sklearn.preprocessing import LabelEncoder"
      ],
      "metadata": {
        "id": "OGT8lEEHkNnO"
      },
      "execution_count": null,
      "outputs": []
    },
    {
      "cell_type": "markdown",
      "source": [
        "Label Encoding of Breast Cancer Dataset"
      ],
      "metadata": {
        "id": "Kp6pld13mAd6"
      }
    },
    {
      "cell_type": "code",
      "source": [
        "# Loading the data from csv file to pandas dataFrame\n",
        "cancer_data = pd.read_csv('/content/data.csv')"
      ],
      "metadata": {
        "id": "mYt_a02jmJMf"
      },
      "execution_count": null,
      "outputs": []
    },
    {
      "cell_type": "code",
      "source": [
        "cancer_data.head()"
      ],
      "metadata": {
        "id": "7zkL_RZZmxfH"
      },
      "execution_count": null,
      "outputs": []
    },
    {
      "cell_type": "code",
      "source": [
        "# Finding the count of different labels\n",
        "cancer_data['diagnosis'].value_counts()"
      ],
      "metadata": {
        "id": "Ld-8tJChnJDP"
      },
      "execution_count": null,
      "outputs": []
    },
    {
      "cell_type": "code",
      "source": [
        "# load the Label encoder function\n",
        "label_encode = LabelEncoder()"
      ],
      "metadata": {
        "id": "kAStAOqrnmLr"
      },
      "execution_count": null,
      "outputs": []
    },
    {
      "cell_type": "code",
      "source": [
        "labels = label_encode.fit_transform(cancer_data.diagnosis)"
      ],
      "metadata": {
        "id": "fL80M0sIn7MY"
      },
      "execution_count": null,
      "outputs": []
    },
    {
      "cell_type": "code",
      "source": [
        "# Appending the labels to the DataFrame\n",
        "cancer_data['target'] = labels\n",
        "cancer_data.head()"
      ],
      "metadata": {
        "id": "oOtxWMl-ohcU"
      },
      "execution_count": null,
      "outputs": []
    },
    {
      "cell_type": "markdown",
      "source": [
        "0 -> Benign\n",
        "1 -> Malignant"
      ],
      "metadata": {
        "id": "cTLPok1gpnDp"
      }
    },
    {
      "cell_type": "code",
      "source": [
        "cancer_data['target'].value_counts()"
      ],
      "metadata": {
        "id": "gvXe7QLopwlU"
      },
      "execution_count": null,
      "outputs": []
    },
    {
      "cell_type": "markdown",
      "source": [
        "Label Encoding of iris data"
      ],
      "metadata": {
        "id": "1RgDjib_rx8Y"
      }
    },
    {
      "cell_type": "code",
      "source": [
        "# loading the data from csv file to pandas dataFrame\n",
        "iris_data = pd.read_csv('/content/iris_data.csv')"
      ],
      "metadata": {
        "id": "538Wdt3Zr4QI"
      },
      "execution_count": null,
      "outputs": []
    },
    {
      "cell_type": "code",
      "source": [
        "iris_data.head()"
      ],
      "metadata": {
        "id": "ncpQH3oIsanX"
      },
      "execution_count": null,
      "outputs": []
    },
    {
      "cell_type": "code",
      "source": [
        "iris_data['Species'].value_counts()"
      ],
      "metadata": {
        "id": "JR4eBHj2tF5H"
      },
      "execution_count": null,
      "outputs": []
    },
    {
      "cell_type": "code",
      "source": [
        "# Loading the label encoder\n",
        "label_encoder_1 = LabelEncoder()"
      ],
      "metadata": {
        "id": "ZTbRIEenth7Z"
      },
      "execution_count": null,
      "outputs": []
    },
    {
      "cell_type": "code",
      "source": [
        "iris_labels = label_encoder_1.fit_transform(iris_data.Species)"
      ],
      "metadata": {
        "id": "Us9YexNxtz6t"
      },
      "execution_count": null,
      "outputs": []
    },
    {
      "cell_type": "code",
      "source": [
        "iris_data['target'] = iris_labels"
      ],
      "metadata": {
        "id": "5d57Q5k7uIFP"
      },
      "execution_count": null,
      "outputs": []
    },
    {
      "cell_type": "code",
      "source": [
        "iris_data.head()"
      ],
      "metadata": {
        "id": "qp9jKXefuPds"
      },
      "execution_count": null,
      "outputs": []
    },
    {
      "cell_type": "code",
      "source": [
        "iris_data['target'].value_counts()"
      ],
      "metadata": {
        "id": "-IkyNGMvucUw"
      },
      "execution_count": null,
      "outputs": []
    }
  ]
}