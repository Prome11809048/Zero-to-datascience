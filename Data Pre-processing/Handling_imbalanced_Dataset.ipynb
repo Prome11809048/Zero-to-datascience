{
  "nbformat": 4,
  "nbformat_minor": 0,
  "metadata": {
    "colab": {
      "provenance": []
    },
    "kernelspec": {
      "name": "python3",
      "display_name": "Python 3"
    },
    "language_info": {
      "name": "python"
    }
  },
  "cells": [
    {
      "cell_type": "markdown",
      "source": [
        "Imbalanced Dataset:\n",
        "\n",
        "A dataset with unequal class distribution\n",
        "\n",
        "\n",
        "\n"
      ],
      "metadata": {
        "id": "2hlHV2r4wCjy"
      }
    },
    {
      "cell_type": "code",
      "source": [
        "# Importing the dependencies\n",
        "import numpy as np\n",
        "import pandas as pd"
      ],
      "metadata": {
        "id": "9Ll5uU9NxArI"
      },
      "execution_count": null,
      "outputs": []
    },
    {
      "cell_type": "code",
      "source": [
        "# loading the dataset into pandas DataFrame\n",
        "credit_card_data = pd.read_csv('/content/credit_data.csv')"
      ],
      "metadata": {
        "id": "0fDSt_O5y5e2"
      },
      "execution_count": null,
      "outputs": []
    },
    {
      "cell_type": "code",
      "source": [
        "# first five rows of the dataframe\n",
        "credit_card_data.head()"
      ],
      "metadata": {
        "id": "gnKI8Mxbzq9G"
      },
      "execution_count": null,
      "outputs": []
    },
    {
      "cell_type": "code",
      "source": [
        "credit_card_data.tail()"
      ],
      "metadata": {
        "id": "1YJuURu71VIt"
      },
      "execution_count": null,
      "outputs": []
    },
    {
      "cell_type": "code",
      "source": [
        "# distribution of the two classes\n",
        "credit_card_data['Class'].value_counts()"
      ],
      "metadata": {
        "id": "L8UcCIlO1ibw"
      },
      "execution_count": null,
      "outputs": []
    },
    {
      "cell_type": "markdown",
      "source": [
        "This is Highly Imbalanced Dataset\n",
        "\n",
        "0 --> Legit Transactions\n",
        "1 --> Fraudulent Transactions\n"
      ],
      "metadata": {
        "id": "pgKIuP_S2NP9"
      }
    },
    {
      "cell_type": "code",
      "source": [
        "# separating the legit and fraudulent transactions\n",
        "legit = credit_card_data[credit_card_data.Class == 0]\n",
        "fraud = credit_card_data[credit_card_data.Class == 1]"
      ],
      "metadata": {
        "id": "_f1SCXYU2vIi"
      },
      "execution_count": null,
      "outputs": []
    },
    {
      "cell_type": "code",
      "source": [
        "print(legit.shape)\n",
        "print(fraud.shape)"
      ],
      "metadata": {
        "id": "pviOvLms30h5"
      },
      "execution_count": null,
      "outputs": []
    },
    {
      "cell_type": "markdown",
      "source": [
        "Undersampling\n",
        "\n",
        "Build a sample dataset containing similar distribution of Legit & Fraudulent Transaction"
      ],
      "metadata": {
        "id": "lz3dqUPz4Hp4"
      }
    },
    {
      "cell_type": "code",
      "source": [
        "legit_sample = legit.sample(n = 492)"
      ],
      "metadata": {
        "id": "KADXJrhL4KAQ"
      },
      "execution_count": null,
      "outputs": []
    },
    {
      "cell_type": "code",
      "source": [
        "legit_sample.shape"
      ],
      "metadata": {
        "id": "riM_7pFs5BtQ"
      },
      "execution_count": null,
      "outputs": []
    },
    {
      "cell_type": "markdown",
      "source": [
        "Concatenate the Two DataFrames"
      ],
      "metadata": {
        "id": "YeL3a3oUIeK_"
      }
    },
    {
      "cell_type": "code",
      "source": [
        "new_dataset = pd.concat([legit_sample,fraud], axis = 0)"
      ],
      "metadata": {
        "id": "zRHJCNZBIopM"
      },
      "execution_count": null,
      "outputs": []
    },
    {
      "cell_type": "code",
      "source": [
        "new_dataset.head()"
      ],
      "metadata": {
        "colab": {
          "base_uri": "https://localhost:8080/",
          "height": 255
        },
        "id": "a5UM-Y3DKEhu",
        "outputId": "422e47f7-dab6-4b73-f37e-a106f87238b1"
      },
      "execution_count": null,
      "outputs": [
        {
          "output_type": "execute_result",
          "data": {
            "text/plain": [
              "        Time        V1        V2        V3        V4        V5        V6  \\\n",
              "3624    3100 -0.302521  0.447474 -0.495757 -3.214799  2.705041  2.762440   \n",
              "13411  23713  1.224498  0.600190 -0.229770  0.978709  0.004485 -1.178982   \n",
              "7615   10535 -0.584685 -0.301752  1.250112  1.043959  0.080544 -0.533038   \n",
              "7067    9260  1.161080 -0.103047  1.096137  1.094636 -0.920369 -0.368808   \n",
              "26528  34122  0.212147  0.821661  1.164987  0.964272 -0.301988 -0.521119   \n",
              "\n",
              "             V7        V8        V9  ...       V21       V22       V23  \\\n",
              "3624   0.593847  0.556451  0.697720  ...  0.007343  0.250886 -0.331600   \n",
              "13411  0.141559 -0.211057  0.993603  ... -0.234207 -0.454439 -0.043395   \n",
              "7615  -0.224909 -0.073745  1.629365  ... -0.042597  0.624203  0.785446   \n",
              "7067  -0.563257 -0.059559  2.166536  ... -0.081829  0.171718 -0.105939   \n",
              "26528  0.356432 -0.024613 -0.757608  ...  0.009475  0.067499  0.306960   \n",
              "\n",
              "            V24       V25       V26       V27       V28  Amount  Class  \n",
              "3624   1.009952  0.233730 -0.824471  0.241305 -0.020359    1.00    0.0  \n",
              "13411  0.362187  0.459301  0.303142 -0.070367  0.020118    0.76    0.0  \n",
              "7615   0.439761 -1.367215  1.107604  0.149533  0.192066    9.80    0.0  \n",
              "7067   0.395534  0.446622  0.470162 -0.028903  0.015526   29.99    0.0  \n",
              "26528  0.538501 -1.657884  0.076439  0.251939  0.248429    8.94    0.0  \n",
              "\n",
              "[5 rows x 31 columns]"
            ],
            "text/html": [
              "\n",
              "  <div id=\"df-b00d797a-bd3f-43f3-aee4-5e90ad525a20\" class=\"colab-df-container\">\n",
              "    <div>\n",
              "<style scoped>\n",
              "    .dataframe tbody tr th:only-of-type {\n",
              "        vertical-align: middle;\n",
              "    }\n",
              "\n",
              "    .dataframe tbody tr th {\n",
              "        vertical-align: top;\n",
              "    }\n",
              "\n",
              "    .dataframe thead th {\n",
              "        text-align: right;\n",
              "    }\n",
              "</style>\n",
              "<table border=\"1\" class=\"dataframe\">\n",
              "  <thead>\n",
              "    <tr style=\"text-align: right;\">\n",
              "      <th></th>\n",
              "      <th>Time</th>\n",
              "      <th>V1</th>\n",
              "      <th>V2</th>\n",
              "      <th>V3</th>\n",
              "      <th>V4</th>\n",
              "      <th>V5</th>\n",
              "      <th>V6</th>\n",
              "      <th>V7</th>\n",
              "      <th>V8</th>\n",
              "      <th>V9</th>\n",
              "      <th>...</th>\n",
              "      <th>V21</th>\n",
              "      <th>V22</th>\n",
              "      <th>V23</th>\n",
              "      <th>V24</th>\n",
              "      <th>V25</th>\n",
              "      <th>V26</th>\n",
              "      <th>V27</th>\n",
              "      <th>V28</th>\n",
              "      <th>Amount</th>\n",
              "      <th>Class</th>\n",
              "    </tr>\n",
              "  </thead>\n",
              "  <tbody>\n",
              "    <tr>\n",
              "      <th>3624</th>\n",
              "      <td>3100</td>\n",
              "      <td>-0.302521</td>\n",
              "      <td>0.447474</td>\n",
              "      <td>-0.495757</td>\n",
              "      <td>-3.214799</td>\n",
              "      <td>2.705041</td>\n",
              "      <td>2.762440</td>\n",
              "      <td>0.593847</td>\n",
              "      <td>0.556451</td>\n",
              "      <td>0.697720</td>\n",
              "      <td>...</td>\n",
              "      <td>0.007343</td>\n",
              "      <td>0.250886</td>\n",
              "      <td>-0.331600</td>\n",
              "      <td>1.009952</td>\n",
              "      <td>0.233730</td>\n",
              "      <td>-0.824471</td>\n",
              "      <td>0.241305</td>\n",
              "      <td>-0.020359</td>\n",
              "      <td>1.00</td>\n",
              "      <td>0.0</td>\n",
              "    </tr>\n",
              "    <tr>\n",
              "      <th>13411</th>\n",
              "      <td>23713</td>\n",
              "      <td>1.224498</td>\n",
              "      <td>0.600190</td>\n",
              "      <td>-0.229770</td>\n",
              "      <td>0.978709</td>\n",
              "      <td>0.004485</td>\n",
              "      <td>-1.178982</td>\n",
              "      <td>0.141559</td>\n",
              "      <td>-0.211057</td>\n",
              "      <td>0.993603</td>\n",
              "      <td>...</td>\n",
              "      <td>-0.234207</td>\n",
              "      <td>-0.454439</td>\n",
              "      <td>-0.043395</td>\n",
              "      <td>0.362187</td>\n",
              "      <td>0.459301</td>\n",
              "      <td>0.303142</td>\n",
              "      <td>-0.070367</td>\n",
              "      <td>0.020118</td>\n",
              "      <td>0.76</td>\n",
              "      <td>0.0</td>\n",
              "    </tr>\n",
              "    <tr>\n",
              "      <th>7615</th>\n",
              "      <td>10535</td>\n",
              "      <td>-0.584685</td>\n",
              "      <td>-0.301752</td>\n",
              "      <td>1.250112</td>\n",
              "      <td>1.043959</td>\n",
              "      <td>0.080544</td>\n",
              "      <td>-0.533038</td>\n",
              "      <td>-0.224909</td>\n",
              "      <td>-0.073745</td>\n",
              "      <td>1.629365</td>\n",
              "      <td>...</td>\n",
              "      <td>-0.042597</td>\n",
              "      <td>0.624203</td>\n",
              "      <td>0.785446</td>\n",
              "      <td>0.439761</td>\n",
              "      <td>-1.367215</td>\n",
              "      <td>1.107604</td>\n",
              "      <td>0.149533</td>\n",
              "      <td>0.192066</td>\n",
              "      <td>9.80</td>\n",
              "      <td>0.0</td>\n",
              "    </tr>\n",
              "    <tr>\n",
              "      <th>7067</th>\n",
              "      <td>9260</td>\n",
              "      <td>1.161080</td>\n",
              "      <td>-0.103047</td>\n",
              "      <td>1.096137</td>\n",
              "      <td>1.094636</td>\n",
              "      <td>-0.920369</td>\n",
              "      <td>-0.368808</td>\n",
              "      <td>-0.563257</td>\n",
              "      <td>-0.059559</td>\n",
              "      <td>2.166536</td>\n",
              "      <td>...</td>\n",
              "      <td>-0.081829</td>\n",
              "      <td>0.171718</td>\n",
              "      <td>-0.105939</td>\n",
              "      <td>0.395534</td>\n",
              "      <td>0.446622</td>\n",
              "      <td>0.470162</td>\n",
              "      <td>-0.028903</td>\n",
              "      <td>0.015526</td>\n",
              "      <td>29.99</td>\n",
              "      <td>0.0</td>\n",
              "    </tr>\n",
              "    <tr>\n",
              "      <th>26528</th>\n",
              "      <td>34122</td>\n",
              "      <td>0.212147</td>\n",
              "      <td>0.821661</td>\n",
              "      <td>1.164987</td>\n",
              "      <td>0.964272</td>\n",
              "      <td>-0.301988</td>\n",
              "      <td>-0.521119</td>\n",
              "      <td>0.356432</td>\n",
              "      <td>-0.024613</td>\n",
              "      <td>-0.757608</td>\n",
              "      <td>...</td>\n",
              "      <td>0.009475</td>\n",
              "      <td>0.067499</td>\n",
              "      <td>0.306960</td>\n",
              "      <td>0.538501</td>\n",
              "      <td>-1.657884</td>\n",
              "      <td>0.076439</td>\n",
              "      <td>0.251939</td>\n",
              "      <td>0.248429</td>\n",
              "      <td>8.94</td>\n",
              "      <td>0.0</td>\n",
              "    </tr>\n",
              "  </tbody>\n",
              "</table>\n",
              "<p>5 rows × 31 columns</p>\n",
              "</div>\n",
              "    <div class=\"colab-df-buttons\">\n",
              "\n",
              "  <div class=\"colab-df-container\">\n",
              "    <button class=\"colab-df-convert\" onclick=\"convertToInteractive('df-b00d797a-bd3f-43f3-aee4-5e90ad525a20')\"\n",
              "            title=\"Convert this dataframe to an interactive table.\"\n",
              "            style=\"display:none;\">\n",
              "\n",
              "  <svg xmlns=\"http://www.w3.org/2000/svg\" height=\"24px\" viewBox=\"0 -960 960 960\">\n",
              "    <path d=\"M120-120v-720h720v720H120Zm60-500h600v-160H180v160Zm220 220h160v-160H400v160Zm0 220h160v-160H400v160ZM180-400h160v-160H180v160Zm440 0h160v-160H620v160ZM180-180h160v-160H180v160Zm440 0h160v-160H620v160Z\"/>\n",
              "  </svg>\n",
              "    </button>\n",
              "\n",
              "  <style>\n",
              "    .colab-df-container {\n",
              "      display:flex;\n",
              "      gap: 12px;\n",
              "    }\n",
              "\n",
              "    .colab-df-convert {\n",
              "      background-color: #E8F0FE;\n",
              "      border: none;\n",
              "      border-radius: 50%;\n",
              "      cursor: pointer;\n",
              "      display: none;\n",
              "      fill: #1967D2;\n",
              "      height: 32px;\n",
              "      padding: 0 0 0 0;\n",
              "      width: 32px;\n",
              "    }\n",
              "\n",
              "    .colab-df-convert:hover {\n",
              "      background-color: #E2EBFA;\n",
              "      box-shadow: 0px 1px 2px rgba(60, 64, 67, 0.3), 0px 1px 3px 1px rgba(60, 64, 67, 0.15);\n",
              "      fill: #174EA6;\n",
              "    }\n",
              "\n",
              "    .colab-df-buttons div {\n",
              "      margin-bottom: 4px;\n",
              "    }\n",
              "\n",
              "    [theme=dark] .colab-df-convert {\n",
              "      background-color: #3B4455;\n",
              "      fill: #D2E3FC;\n",
              "    }\n",
              "\n",
              "    [theme=dark] .colab-df-convert:hover {\n",
              "      background-color: #434B5C;\n",
              "      box-shadow: 0px 1px 3px 1px rgba(0, 0, 0, 0.15);\n",
              "      filter: drop-shadow(0px 1px 2px rgba(0, 0, 0, 0.3));\n",
              "      fill: #FFFFFF;\n",
              "    }\n",
              "  </style>\n",
              "\n",
              "    <script>\n",
              "      const buttonEl =\n",
              "        document.querySelector('#df-b00d797a-bd3f-43f3-aee4-5e90ad525a20 button.colab-df-convert');\n",
              "      buttonEl.style.display =\n",
              "        google.colab.kernel.accessAllowed ? 'block' : 'none';\n",
              "\n",
              "      async function convertToInteractive(key) {\n",
              "        const element = document.querySelector('#df-b00d797a-bd3f-43f3-aee4-5e90ad525a20');\n",
              "        const dataTable =\n",
              "          await google.colab.kernel.invokeFunction('convertToInteractive',\n",
              "                                                    [key], {});\n",
              "        if (!dataTable) return;\n",
              "\n",
              "        const docLinkHtml = 'Like what you see? Visit the ' +\n",
              "          '<a target=\"_blank\" href=https://colab.research.google.com/notebooks/data_table.ipynb>data table notebook</a>'\n",
              "          + ' to learn more about interactive tables.';\n",
              "        element.innerHTML = '';\n",
              "        dataTable['output_type'] = 'display_data';\n",
              "        await google.colab.output.renderOutput(dataTable, element);\n",
              "        const docLink = document.createElement('div');\n",
              "        docLink.innerHTML = docLinkHtml;\n",
              "        element.appendChild(docLink);\n",
              "      }\n",
              "    </script>\n",
              "  </div>\n",
              "\n",
              "\n",
              "    <div id=\"df-7e255636-8f58-4a60-a824-335ba9ed61e4\">\n",
              "      <button class=\"colab-df-quickchart\" onclick=\"quickchart('df-7e255636-8f58-4a60-a824-335ba9ed61e4')\"\n",
              "                title=\"Suggest charts\"\n",
              "                style=\"display:none;\">\n",
              "\n",
              "<svg xmlns=\"http://www.w3.org/2000/svg\" height=\"24px\"viewBox=\"0 0 24 24\"\n",
              "     width=\"24px\">\n",
              "    <g>\n",
              "        <path d=\"M19 3H5c-1.1 0-2 .9-2 2v14c0 1.1.9 2 2 2h14c1.1 0 2-.9 2-2V5c0-1.1-.9-2-2-2zM9 17H7v-7h2v7zm4 0h-2V7h2v10zm4 0h-2v-4h2v4z\"/>\n",
              "    </g>\n",
              "</svg>\n",
              "      </button>\n",
              "\n",
              "<style>\n",
              "  .colab-df-quickchart {\n",
              "      --bg-color: #E8F0FE;\n",
              "      --fill-color: #1967D2;\n",
              "      --hover-bg-color: #E2EBFA;\n",
              "      --hover-fill-color: #174EA6;\n",
              "      --disabled-fill-color: #AAA;\n",
              "      --disabled-bg-color: #DDD;\n",
              "  }\n",
              "\n",
              "  [theme=dark] .colab-df-quickchart {\n",
              "      --bg-color: #3B4455;\n",
              "      --fill-color: #D2E3FC;\n",
              "      --hover-bg-color: #434B5C;\n",
              "      --hover-fill-color: #FFFFFF;\n",
              "      --disabled-bg-color: #3B4455;\n",
              "      --disabled-fill-color: #666;\n",
              "  }\n",
              "\n",
              "  .colab-df-quickchart {\n",
              "    background-color: var(--bg-color);\n",
              "    border: none;\n",
              "    border-radius: 50%;\n",
              "    cursor: pointer;\n",
              "    display: none;\n",
              "    fill: var(--fill-color);\n",
              "    height: 32px;\n",
              "    padding: 0;\n",
              "    width: 32px;\n",
              "  }\n",
              "\n",
              "  .colab-df-quickchart:hover {\n",
              "    background-color: var(--hover-bg-color);\n",
              "    box-shadow: 0 1px 2px rgba(60, 64, 67, 0.3), 0 1px 3px 1px rgba(60, 64, 67, 0.15);\n",
              "    fill: var(--button-hover-fill-color);\n",
              "  }\n",
              "\n",
              "  .colab-df-quickchart-complete:disabled,\n",
              "  .colab-df-quickchart-complete:disabled:hover {\n",
              "    background-color: var(--disabled-bg-color);\n",
              "    fill: var(--disabled-fill-color);\n",
              "    box-shadow: none;\n",
              "  }\n",
              "\n",
              "  .colab-df-spinner {\n",
              "    border: 2px solid var(--fill-color);\n",
              "    border-color: transparent;\n",
              "    border-bottom-color: var(--fill-color);\n",
              "    animation:\n",
              "      spin 1s steps(1) infinite;\n",
              "  }\n",
              "\n",
              "  @keyframes spin {\n",
              "    0% {\n",
              "      border-color: transparent;\n",
              "      border-bottom-color: var(--fill-color);\n",
              "      border-left-color: var(--fill-color);\n",
              "    }\n",
              "    20% {\n",
              "      border-color: transparent;\n",
              "      border-left-color: var(--fill-color);\n",
              "      border-top-color: var(--fill-color);\n",
              "    }\n",
              "    30% {\n",
              "      border-color: transparent;\n",
              "      border-left-color: var(--fill-color);\n",
              "      border-top-color: var(--fill-color);\n",
              "      border-right-color: var(--fill-color);\n",
              "    }\n",
              "    40% {\n",
              "      border-color: transparent;\n",
              "      border-right-color: var(--fill-color);\n",
              "      border-top-color: var(--fill-color);\n",
              "    }\n",
              "    60% {\n",
              "      border-color: transparent;\n",
              "      border-right-color: var(--fill-color);\n",
              "    }\n",
              "    80% {\n",
              "      border-color: transparent;\n",
              "      border-right-color: var(--fill-color);\n",
              "      border-bottom-color: var(--fill-color);\n",
              "    }\n",
              "    90% {\n",
              "      border-color: transparent;\n",
              "      border-bottom-color: var(--fill-color);\n",
              "    }\n",
              "  }\n",
              "</style>\n",
              "\n",
              "      <script>\n",
              "        async function quickchart(key) {\n",
              "          const quickchartButtonEl =\n",
              "            document.querySelector('#' + key + ' button');\n",
              "          quickchartButtonEl.disabled = true;  // To prevent multiple clicks.\n",
              "          quickchartButtonEl.classList.add('colab-df-spinner');\n",
              "          try {\n",
              "            const charts = await google.colab.kernel.invokeFunction(\n",
              "                'suggestCharts', [key], {});\n",
              "          } catch (error) {\n",
              "            console.error('Error during call to suggestCharts:', error);\n",
              "          }\n",
              "          quickchartButtonEl.classList.remove('colab-df-spinner');\n",
              "          quickchartButtonEl.classList.add('colab-df-quickchart-complete');\n",
              "        }\n",
              "        (() => {\n",
              "          let quickchartButtonEl =\n",
              "            document.querySelector('#df-7e255636-8f58-4a60-a824-335ba9ed61e4 button');\n",
              "          quickchartButtonEl.style.display =\n",
              "            google.colab.kernel.accessAllowed ? 'block' : 'none';\n",
              "        })();\n",
              "      </script>\n",
              "    </div>\n",
              "\n",
              "    </div>\n",
              "  </div>\n"
            ],
            "application/vnd.google.colaboratory.intrinsic+json": {
              "type": "dataframe",
              "variable_name": "new_dataset"
            }
          },
          "metadata": {},
          "execution_count": 12
        }
      ]
    },
    {
      "cell_type": "code",
      "source": [
        "new_dataset.tail()"
      ],
      "metadata": {
        "id": "WzOZabknL7qI"
      },
      "execution_count": null,
      "outputs": []
    },
    {
      "cell_type": "code",
      "source": [
        "new_dataset['Class'].value_counts()"
      ],
      "metadata": {
        "colab": {
          "base_uri": "https://localhost:8080/",
          "height": 178
        },
        "id": "PfGbSr1_MMyK",
        "outputId": "3453868d-2565-4585-ae47-476b523a313d"
      },
      "execution_count": null,
      "outputs": [
        {
          "output_type": "execute_result",
          "data": {
            "text/plain": [
              "Class\n",
              "0.0    492\n",
              "1.0    103\n",
              "Name: count, dtype: int64"
            ],
            "text/html": [
              "<div>\n",
              "<style scoped>\n",
              "    .dataframe tbody tr th:only-of-type {\n",
              "        vertical-align: middle;\n",
              "    }\n",
              "\n",
              "    .dataframe tbody tr th {\n",
              "        vertical-align: top;\n",
              "    }\n",
              "\n",
              "    .dataframe thead th {\n",
              "        text-align: right;\n",
              "    }\n",
              "</style>\n",
              "<table border=\"1\" class=\"dataframe\">\n",
              "  <thead>\n",
              "    <tr style=\"text-align: right;\">\n",
              "      <th></th>\n",
              "      <th>count</th>\n",
              "    </tr>\n",
              "    <tr>\n",
              "      <th>Class</th>\n",
              "      <th></th>\n",
              "    </tr>\n",
              "  </thead>\n",
              "  <tbody>\n",
              "    <tr>\n",
              "      <th>0.0</th>\n",
              "      <td>492</td>\n",
              "    </tr>\n",
              "    <tr>\n",
              "      <th>1.0</th>\n",
              "      <td>103</td>\n",
              "    </tr>\n",
              "  </tbody>\n",
              "</table>\n",
              "</div><br><label><b>dtype:</b> int64</label>"
            ]
          },
          "metadata": {},
          "execution_count": 16
        }
      ]
    }
  ]
}