{
  "nbformat": 4,
  "nbformat_minor": 0,
  "metadata": {
    "colab": {
      "provenance": [],
      "collapsed_sections": [
        "C6_DzZbk6OYK",
        "X5CGF3ki7TFM",
        "4lRqriNDg33C",
        "mxQeacva9P8v"
      ],
      "toc_visible": true
    },
    "kernelspec": {
      "name": "python3",
      "display_name": "Python 3"
    },
    "language_info": {
      "name": "python"
    }
  },
  "cells": [
    {
      "cell_type": "markdown",
      "source": [
        "For printing any text in python we can use single quote and double quote both"
      ],
      "metadata": {
        "id": "v68oCJld1e0E"
      }
    },
    {
      "cell_type": "markdown",
      "source": [
        "# Print function"
      ],
      "metadata": {
        "id": "C6_DzZbk6OYK"
      }
    },
    {
      "cell_type": "code",
      "source": [
        "print(\"Machine Learning\")"
      ],
      "metadata": {
        "colab": {
          "base_uri": "https://localhost:8080/"
        },
        "id": "CCVG3u3d2_hR",
        "outputId": "523573e1-682f-44ee-eaf6-da38233b483f"
      },
      "execution_count": null,
      "outputs": [
        {
          "output_type": "stream",
          "name": "stdout",
          "text": [
            "Machine Learning\n"
          ]
        }
      ]
    },
    {
      "cell_type": "code",
      "source": [
        "print('Machine Learning')"
      ],
      "metadata": {
        "colab": {
          "base_uri": "https://localhost:8080/"
        },
        "id": "0rSQo17p3FCD",
        "outputId": "310c701d-6cc4-4a19-e00b-053bb534df54"
      },
      "execution_count": null,
      "outputs": [
        {
          "output_type": "stream",
          "name": "stdout",
          "text": [
            "Machine Learning\n"
          ]
        }
      ]
    },
    {
      "cell_type": "markdown",
      "source": [
        "Text joining or String concatenation"
      ],
      "metadata": {
        "id": "07bhXlp04_qm"
      }
    },
    {
      "cell_type": "code",
      "source": [
        "print(\"Machine Learning\" + \" Projects\")"
      ],
      "metadata": {
        "colab": {
          "base_uri": "https://localhost:8080/"
        },
        "id": "1TgayuEE5KPJ",
        "outputId": "461969ed-7793-4b53-ebad-8685d5f0d176"
      },
      "execution_count": null,
      "outputs": [
        {
          "output_type": "stream",
          "name": "stdout",
          "text": [
            "Machine Learning Projects\n"
          ]
        }
      ]
    },
    {
      "cell_type": "markdown",
      "source": [
        "Print Numbers"
      ],
      "metadata": {
        "id": "O3zTjM-45lJ3"
      }
    },
    {
      "cell_type": "code",
      "source": [
        "print(8)"
      ],
      "metadata": {
        "colab": {
          "base_uri": "https://localhost:8080/"
        },
        "id": "K3D-hhBl5npn",
        "outputId": "712a34ba-abf6-4f07-a324-257f5cd933da"
      },
      "execution_count": null,
      "outputs": [
        {
          "output_type": "stream",
          "name": "stdout",
          "text": [
            "8\n"
          ]
        }
      ]
    },
    {
      "cell_type": "code",
      "source": [
        "print(8+3)"
      ],
      "metadata": {
        "colab": {
          "base_uri": "https://localhost:8080/"
        },
        "id": "VZlmvU6SWb5F",
        "outputId": "8fb0d6ce-5d5e-4aa6-d222-0cf4e3e63643"
      },
      "execution_count": null,
      "outputs": [
        {
          "output_type": "stream",
          "name": "stdout",
          "text": [
            "11\n"
          ]
        }
      ]
    },
    {
      "cell_type": "markdown",
      "source": [
        "#Basic datatypes"
      ],
      "metadata": {
        "id": "X5CGF3ki7TFM"
      }
    },
    {
      "cell_type": "markdown",
      "source": [
        "Data types\n",
        "\n",
        "1.   int\n",
        "2.   float\n",
        "3.   str (for string)\n",
        "4.   Complex\n",
        "6.   Boolean"
      ],
      "metadata": {
        "id": "yYnLudma7ed0"
      }
    },
    {
      "cell_type": "code",
      "source": [
        "type(8)"
      ],
      "metadata": {
        "colab": {
          "base_uri": "https://localhost:8080/"
        },
        "id": "TNzqiZBs75_V",
        "outputId": "a84f83f1-98c5-4031-c1a6-8ef2f2412579"
      },
      "execution_count": null,
      "outputs": [
        {
          "output_type": "execute_result",
          "data": {
            "text/plain": [
              "int"
            ]
          },
          "metadata": {},
          "execution_count": 15
        }
      ]
    },
    {
      "cell_type": "code",
      "source": [
        "type(8.1)"
      ],
      "metadata": {
        "colab": {
          "base_uri": "https://localhost:8080/"
        },
        "id": "faGrXy5K9Cw8",
        "outputId": "8144ef58-17ee-4a0d-ca61-da8c1beeb388"
      },
      "execution_count": null,
      "outputs": [
        {
          "output_type": "execute_result",
          "data": {
            "text/plain": [
              "float"
            ]
          },
          "metadata": {},
          "execution_count": 13
        }
      ]
    },
    {
      "cell_type": "code",
      "source": [
        "type(\"Machine\")"
      ],
      "metadata": {
        "colab": {
          "base_uri": "https://localhost:8080/"
        },
        "id": "p2HBWfMo9Ful",
        "outputId": "bbf7086b-b1a2-42e9-9694-81f743759071"
      },
      "execution_count": null,
      "outputs": [
        {
          "output_type": "execute_result",
          "data": {
            "text/plain": [
              "str"
            ]
          },
          "metadata": {},
          "execution_count": 14
        }
      ]
    },
    {
      "cell_type": "code",
      "source": [
        "c = 1 + 3j\n",
        "type(c)"
      ],
      "metadata": {
        "colab": {
          "base_uri": "https://localhost:8080/"
        },
        "id": "SS9NrFOydCGV",
        "outputId": "c206ca18-3d3b-40ff-e49f-f4c0c3559aa3"
      },
      "execution_count": null,
      "outputs": [
        {
          "output_type": "execute_result",
          "data": {
            "text/plain": [
              "complex"
            ]
          },
          "metadata": {},
          "execution_count": 15
        }
      ]
    },
    {
      "cell_type": "code",
      "source": [
        "c = True\n",
        "type(c)"
      ],
      "metadata": {
        "colab": {
          "base_uri": "https://localhost:8080/"
        },
        "id": "ie-C7Lv2eyV9",
        "outputId": "c6500eba-4fab-4a7f-a43f-5c5c855e8ba0"
      },
      "execution_count": null,
      "outputs": [
        {
          "output_type": "execute_result",
          "data": {
            "text/plain": [
              "bool"
            ]
          },
          "metadata": {},
          "execution_count": 18
        }
      ]
    },
    {
      "cell_type": "code",
      "source": [
        "c = 7 < 3\n",
        "type(c)"
      ],
      "metadata": {
        "colab": {
          "base_uri": "https://localhost:8080/"
        },
        "id": "e8YCoS1ifKCT",
        "outputId": "58d91f1c-a305-4475-b62d-59edba137371"
      },
      "execution_count": null,
      "outputs": [
        {
          "output_type": "execute_result",
          "data": {
            "text/plain": [
              "bool"
            ]
          },
          "metadata": {},
          "execution_count": 19
        }
      ]
    },
    {
      "cell_type": "markdown",
      "source": [
        "String slicing"
      ],
      "metadata": {
        "id": "htpf9Vfpf9Pi"
      }
    },
    {
      "cell_type": "code",
      "source": [
        "my_string = \"Programming\"\n",
        "print(my_string[1:5])"
      ],
      "metadata": {
        "colab": {
          "base_uri": "https://localhost:8080/"
        },
        "id": "h8jFKoh8gKly",
        "outputId": "6d4d844f-1032-4089-9a99-bc8064387e0b"
      },
      "execution_count": null,
      "outputs": [
        {
          "output_type": "stream",
          "name": "stdout",
          "text": [
            "rogr\n"
          ]
        }
      ]
    },
    {
      "cell_type": "code",
      "source": [
        "my_string = \"Programming\"\n",
        "print(my_string[0:10:2])"
      ],
      "metadata": {
        "colab": {
          "base_uri": "https://localhost:8080/"
        },
        "id": "L1YAJh8DgiKh",
        "outputId": "02d1a6e5-061a-4acd-9eaf-dda172c36ead"
      },
      "execution_count": null,
      "outputs": [
        {
          "output_type": "stream",
          "name": "stdout",
          "text": [
            "Pormi\n"
          ]
        }
      ]
    },
    {
      "cell_type": "markdown",
      "source": [
        "# Special Datatype"
      ],
      "metadata": {
        "id": "4lRqriNDg33C"
      }
    },
    {
      "cell_type": "markdown",
      "source": [
        "Multiple Objects\n",
        "\n",
        "1. List\n",
        "2. Tuple\n",
        "3. Set\n",
        "4. Dictionary\n"
      ],
      "metadata": {
        "id": "j7u6nZIsR9WE"
      }
    },
    {
      "cell_type": "code",
      "source": [
        "# List should be included in square bracket\n",
        "my_list = [1,2,3,4,5]\n",
        "print(my_list)\n"
      ],
      "metadata": {
        "colab": {
          "base_uri": "https://localhost:8080/"
        },
        "id": "Yy6EGWXCSff_",
        "outputId": "6739ef44-586b-495c-8efa-83ea46c4dde5"
      },
      "execution_count": null,
      "outputs": [
        {
          "output_type": "stream",
          "name": "stdout",
          "text": [
            "[1, 2, 3, 4, 5]\n",
            "(1, 2, 3, 4, 5)\n"
          ]
        }
      ]
    },
    {
      "cell_type": "code",
      "source": [
        "# List can have multiple values\n",
        "my_list = [1,2.2,3,\"English\", True]\n",
        "my_list_1 = []\n",
        "\n",
        "#insert an element into list\n",
        "my_list.append(4)\n",
        "# print a specific value in list\n",
        "print(my_list[0])\n",
        "print(my_list)\n",
        "# print length of a list\n",
        "print(len(my_list))\n",
        "\n",
        "#delete a list\n",
        "del my_list_1\n",
        "#print(my_list_1)\n",
        "\n",
        "#Join two list\n",
        "my_list_2 = [1,2,3,4,5]\n",
        "my_list_3 = [6,7,8,9,10]\n",
        "my_list_4 = my_list_2 + my_list_3\n",
        "print(my_list_4)\n"
      ],
      "metadata": {
        "colab": {
          "base_uri": "https://localhost:8080/"
        },
        "id": "k5ONED15T7tf",
        "outputId": "0b5026c8-fb13-4588-d5d3-023cae2ce69a"
      },
      "execution_count": null,
      "outputs": [
        {
          "output_type": "stream",
          "name": "stdout",
          "text": [
            "1\n",
            "[1, 2.2, 3, 'English', True, 4]\n",
            "6\n",
            "[1, 2, 3, 4, 5, 6, 7, 8, 9, 10]\n"
          ]
        }
      ]
    },
    {
      "cell_type": "code",
      "source": [
        "# Tuple should be included in round bracket\n",
        "my_tuple = (1,2,3,4,5)\n",
        "print(my_tuple)\n",
        "type(my_tuple)"
      ],
      "metadata": {
        "colab": {
          "base_uri": "https://localhost:8080/"
        },
        "id": "zTWy9r4qYjdM",
        "outputId": "3592aab1-ad64-4674-bbe3-effe881205f5"
      },
      "execution_count": null,
      "outputs": [
        {
          "output_type": "stream",
          "name": "stdout",
          "text": [
            "(1, 2, 3, 4, 5)\n"
          ]
        },
        {
          "output_type": "execute_result",
          "data": {
            "text/plain": [
              "tuple"
            ]
          },
          "metadata": {},
          "execution_count": 12
        }
      ]
    },
    {
      "cell_type": "code",
      "source": [
        "# tuples allow multiple data type\n",
        "my_tuple = (1,2.2,3,\"English\", True)\n",
        "print(my_tuple)\n",
        "\n",
        "# convert tuple to list\n",
        "my_list = list(my_tuple)\n",
        "print(my_list)\n",
        "\n",
        "# convert list to tuple\n",
        "my_tuple = tuple(my_list)\n",
        "print(my_tuple)\n",
        "\n",
        "#print specific data from tuple\n",
        "print(my_tuple[0])\n",
        "print(my_tuple[1])\n",
        "print(my_tuple[2])\n",
        "print(my_tuple[3])\n",
        "print(my_tuple[4])\n",
        "\n",
        "#tuple is immutable or unchangeable\n",
        "#my_tuple[0] = 100\n",
        "#print(my_tuple)"
      ],
      "metadata": {
        "colab": {
          "base_uri": "https://localhost:8080/"
        },
        "id": "-snY8lXqZFBW",
        "outputId": "3e9b3a33-ca74-4336-d340-6d3922a73d7e"
      },
      "execution_count": null,
      "outputs": [
        {
          "output_type": "stream",
          "name": "stdout",
          "text": [
            "(1, 2.2, 3, 'English', True)\n",
            "[1, 2.2, 3, 'English', True]\n",
            "(1, 2.2, 3, 'English', True)\n",
            "1\n",
            "2.2\n",
            "3\n",
            "English\n",
            "True\n"
          ]
        }
      ]
    },
    {
      "cell_type": "code",
      "source": [
        "# set with curly brackets\n",
        "my_set = {1,2,3,4,5}\n",
        "print(my_set)\n",
        "type(my_set)\n",
        "\n",
        "# Set does not support indexing\n",
        "#print(my_set[0])\n",
        "\n",
        "# Set does not support slicing\n",
        "#print(my_set[1:3])\n",
        "\n",
        "#convert list to a set\n",
        "my_list = [1,2,3,4,5,6,7,8,9,10]\n",
        "my_set = set(my_list)\n",
        "print(my_set)\n",
        "\n",
        "#set doesn't support duplicate value\n",
        "my_set = {1,2,3,4,5,6,7,8,9,10,1,2,3,4,5,6,7,8,9,10}\n",
        "print(my_set)\n"
      ],
      "metadata": {
        "colab": {
          "base_uri": "https://localhost:8080/"
        },
        "id": "qnW4ky3ZcRKM",
        "outputId": "912ab659-babe-4c7e-e912-d6c01c317496"
      },
      "execution_count": null,
      "outputs": [
        {
          "output_type": "stream",
          "name": "stdout",
          "text": [
            "{1, 2, 3, 4, 5}\n",
            "{1, 2, 3, 4, 5, 6, 7, 8, 9, 10}\n",
            "{1, 2, 3, 4, 5, 6, 7, 8, 9, 10}\n"
          ]
        }
      ]
    },
    {
      "cell_type": "code",
      "source": [
        "#Dictionary contains key-value pair\n",
        "my_dict = {'name': 'David', 'age': 30, 'city': 'New York'}\n",
        "print(my_dict)\n",
        "\n",
        "# print values through key\n",
        "print(my_dict['name'])\n",
        "print(my_dict['age'])\n",
        "print(my_dict['city'])\n",
        "\n",
        "# update value\n",
        "my_dict['age'] = 31\n",
        "print(my_dict)\n",
        "\n",
        "# Dictionary doesn't alow duplicate value\n",
        "my_dict = {'name': 'David', 'age': 30, 'city': 'New York', 'age': 31}\n",
        "print(my_dict)"
      ],
      "metadata": {
        "colab": {
          "base_uri": "https://localhost:8080/"
        },
        "id": "sYjI5lN7fK9H",
        "outputId": "d1318b3f-fd34-4c43-fe53-d6772265ee85"
      },
      "execution_count": null,
      "outputs": [
        {
          "output_type": "stream",
          "name": "stdout",
          "text": [
            "{'name': 'David', 'age': 30, 'city': 'New York'}\n",
            "David\n",
            "30\n",
            "New York\n",
            "{'name': 'David', 'age': 31, 'city': 'New York'}\n",
            "{'name': 'David', 'age': 31, 'city': 'New York'}\n"
          ]
        }
      ]
    },
    {
      "cell_type": "markdown",
      "source": [
        "# Constant and Variables"
      ],
      "metadata": {
        "id": "mxQeacva9P8v"
      }
    },
    {
      "cell_type": "code",
      "source": [
        "marvel_superhero = \"Iron man\"\n",
        "print(marvel_superhero)"
      ],
      "metadata": {
        "colab": {
          "base_uri": "https://localhost:8080/"
        },
        "id": "OoVVTMhGOy45",
        "outputId": "080e0e45-50ba-429b-e971-78e8549446e7"
      },
      "execution_count": null,
      "outputs": [
        {
          "output_type": "stream",
          "name": "stdout",
          "text": [
            "Iron man\n"
          ]
        }
      ]
    },
    {
      "cell_type": "code",
      "source": [
        "marvel_superhero = \"Captain America\"\n",
        "print(marvel_superhero)"
      ],
      "metadata": {
        "colab": {
          "base_uri": "https://localhost:8080/"
        },
        "id": "I196DYUXPD6Q",
        "outputId": "348d2c75-1f06-412d-f15c-b6bbf0d69275"
      },
      "execution_count": null,
      "outputs": [
        {
          "output_type": "stream",
          "name": "stdout",
          "text": [
            "Captain America\n"
          ]
        }
      ]
    },
    {
      "cell_type": "code",
      "source": [
        "marvel_superhero = \"Iron man\"\n",
        "marvel_superhero = \"Captain America\"\n",
        "print(marvel_superhero)"
      ],
      "metadata": {
        "colab": {
          "base_uri": "https://localhost:8080/"
        },
        "id": "gWJPhs9aUgFO",
        "outputId": "10d43cf1-b131-4a36-889a-69b4006f5936"
      },
      "execution_count": null,
      "outputs": [
        {
          "output_type": "stream",
          "name": "stdout",
          "text": [
            "Captain America\n"
          ]
        }
      ]
    },
    {
      "cell_type": "code",
      "source": [
        "hero1 ,hero2, hero3 = \"Iron man\" , \"Captain America\" , \"Thor\"\n",
        "print(hero1)\n",
        "print(hero2)\n",
        "print(hero3)"
      ],
      "metadata": {
        "colab": {
          "base_uri": "https://localhost:8080/"
        },
        "id": "s0YY_WD7UnSK",
        "outputId": "8752242c-9b36-498c-e4c8-3b60eccd7cb5"
      },
      "execution_count": null,
      "outputs": [
        {
          "output_type": "stream",
          "name": "stdout",
          "text": [
            "Iron man\n",
            "Captain America\n",
            "Thor\n"
          ]
        }
      ]
    },
    {
      "cell_type": "markdown",
      "source": [
        "In Python, constants are typically declared using uppercase variable names by convention, not by enforced language rules. Python does not have built-in constant types like some other languages (e.g., final in Java or const in C++). Instead, developers use naming conventions and discipline to indicate that a variable should not be changed."
      ],
      "metadata": {
        "id": "vRJufuVWVpDg"
      }
    },
    {
      "cell_type": "markdown",
      "source": [
        "# Input from user"
      ],
      "metadata": {
        "id": "CnLWlNXxWCck"
      }
    },
    {
      "cell_type": "code",
      "source": [
        "number_1 = input(\"Enter the first number : \")\n",
        "number_2 = input(\"Enter the second number : \")\n",
        "\n",
        "sum = number_1 + number_2\n",
        "print(sum)"
      ],
      "metadata": {
        "colab": {
          "base_uri": "https://localhost:8080/"
        },
        "id": "McHza1fxalI0",
        "outputId": "fe44afee-b4ef-4e56-bcd2-34c7709988bf"
      },
      "execution_count": null,
      "outputs": [
        {
          "output_type": "stream",
          "name": "stdout",
          "text": [
            "Enter the first number : 10\n",
            "Enter the second number : 20\n",
            "1020\n"
          ]
        }
      ]
    },
    {
      "cell_type": "code",
      "source": [
        "number_1 = int(input(\"Enter the first number : \"))\n",
        "number_2 = int(input(\"Enter the second number : \"))\n",
        "\n",
        "sum = number_1 + number_2\n",
        "print(sum)"
      ],
      "metadata": {
        "colab": {
          "base_uri": "https://localhost:8080/"
        },
        "id": "AiZTuZpkbI48",
        "outputId": "8b0a454d-a3bb-4b18-cf41-109ccec93dbd"
      },
      "execution_count": null,
      "outputs": [
        {
          "output_type": "stream",
          "name": "stdout",
          "text": [
            "Enter the first number : 10\n",
            "Enter the second number : 20\n",
            "30\n"
          ]
        }
      ]
    },
    {
      "cell_type": "markdown",
      "source": [
        "# Operators in Python\n",
        "\n",
        "\n",
        "1.   Arithmetic Operators\n",
        "2.   Assignment Operators\n",
        "3.   Comparison Operators\n",
        "4.   Logical Operators\n",
        "5.   Identity Operators\n",
        "6.   Membership Operators\n",
        "\n"
      ],
      "metadata": {
        "id": "6DjlaY_adYh7"
      }
    },
    {
      "cell_type": "code",
      "source": [
        "#Arithmatic opearators\n",
        "\n",
        "number_1 = 20\n",
        "number_2 = 10\n",
        "print(number_1 + number_2)\n",
        "print(number_1 - number_2)\n",
        "print(number_1 * number_2)\n",
        "print(number_1 / number_2)\n",
        "print(number_1 % number_2)"
      ],
      "metadata": {
        "colab": {
          "base_uri": "https://localhost:8080/"
        },
        "id": "_BPOl2RfeNYe",
        "outputId": "38e8a99f-a224-417e-a88a-cb6cfb782f0e"
      },
      "execution_count": null,
      "outputs": [
        {
          "output_type": "stream",
          "name": "stdout",
          "text": [
            "30\n",
            "10\n",
            "200\n",
            "2.0\n",
            "0\n"
          ]
        }
      ]
    },
    {
      "cell_type": "code",
      "source": [
        "# Assignment operator\n",
        "\n",
        "a = 5  # Simple assignment\n",
        "a += 3 # Equivalent to a = a + 3\n",
        "print(a)\n",
        "a -= 2 # Equivalent to a = a - 2\n",
        "print(a)\n",
        "a *= 4 # Equivalent to a = a * 4\n",
        "print(a)\n",
        "a /= 8 # Equivalent to a = a / 8\n",
        "print(a)\n",
        "a %= 3 # Equivalent to a = a % 3\n",
        "print(a)\n",
        "a = 5\n",
        "a //= 2 # Equivalent to a = a // 2 (floor division)\n",
        "print(a)\n",
        "a = 5\n",
        "a **= 3 # Equivalent to a = a ** 3 (exponentiation)\n",
        "a"
      ],
      "metadata": {
        "colab": {
          "base_uri": "https://localhost:8080/"
        },
        "id": "K3mo6GXqh-CU",
        "outputId": "ccdfe5fd-bb10-4c82-c84c-49f5c1bf9ac5"
      },
      "execution_count": null,
      "outputs": [
        {
          "output_type": "stream",
          "name": "stdout",
          "text": [
            "8\n",
            "6\n",
            "24\n",
            "3.0\n",
            "0.0\n",
            "2\n"
          ]
        },
        {
          "output_type": "execute_result",
          "data": {
            "text/plain": [
              "125"
            ]
          },
          "metadata": {},
          "execution_count": 4
        }
      ]
    },
    {
      "cell_type": "code",
      "source": [
        " # Comparison Operators\n",
        "\n",
        "# Equality (==)\n",
        "print(5 == 5)  # True\n",
        "print(5 == 10) # False\n",
        "\n",
        "# Inequality (!=)\n",
        "print(5 != 10) # True\n",
        "print(5 != 5)  # False\n",
        "\n",
        "# Greater than (>)\n",
        "print(10 > 5) # True\n",
        "print(5 > 10) # False\n",
        "\n",
        "# Less than (<)\n",
        "print(5 < 10) # True\n",
        "print(10 < 5) # False\n",
        "\n",
        "# Greater than or equal to (>=)\n",
        "print(10 >= 10) # True\n",
        "print(10 >= 5)  # True\n",
        "print(5 >= 10)  # False\n",
        "\n",
        "# Less than or equal to (<=)\n",
        "print(5 <= 5)  # True\n",
        "print(5 <= 10) # True\n",
        "print(10 <= 5) # False"
      ],
      "metadata": {
        "colab": {
          "base_uri": "https://localhost:8080/"
        },
        "id": "_BJd_9PimjSO",
        "outputId": "2c0857de-0d61-445f-b776-17cd0d43e951"
      },
      "execution_count": null,
      "outputs": [
        {
          "output_type": "stream",
          "name": "stdout",
          "text": [
            "True\n",
            "False\n",
            "True\n",
            "False\n",
            "True\n",
            "False\n",
            "True\n",
            "False\n",
            "True\n",
            "True\n",
            "False\n",
            "True\n",
            "True\n",
            "False\n"
          ]
        }
      ]
    },
    {
      "cell_type": "code",
      "source": [
        "# Logical Operators\n",
        "\n",
        "# AND (and): Returns True if both operands are True.\n",
        "print(True and True)   # True\n",
        "print(True and False)  # False\n",
        "print(False and True)  # False\n",
        "print(False and False) # False\n",
        "\n",
        "# OR (or): Returns True if at least one of the operands is True.\n",
        "print(True or True)   # True\n",
        "print(True or False)  # True\n",
        "print(False or True)  # True\n",
        "print(False or False) # False\n",
        "\n",
        "# NOT (not): Returns the opposite of the operand.\n",
        "print(not True)  # False\n",
        "print(not False) # True\n",
        "\n",
        "# Examples with expressions\n",
        "x = 5\n",
        "y = 10\n",
        "print(x > 3 and y < 12) # True and True -> True\n",
        "print(x < 3 and y < 12) # False and True -> False\n",
        "print(x < 3 or y < 12)  # False or True -> True\n",
        "print(not (x == 5))     # not True -> False"
      ],
      "metadata": {
        "colab": {
          "base_uri": "https://localhost:8080/"
        },
        "id": "mbCPZCtwo7re",
        "outputId": "20963683-c5b6-429c-fd4f-22ac37711346"
      },
      "execution_count": null,
      "outputs": [
        {
          "output_type": "stream",
          "name": "stdout",
          "text": [
            "True\n",
            "False\n",
            "False\n",
            "False\n",
            "True\n",
            "True\n",
            "True\n",
            "False\n",
            "False\n",
            "True\n",
            "True\n",
            "False\n",
            "True\n",
            "False\n"
          ]
        }
      ]
    },
    {
      "cell_type": "code",
      "source": [
        "# Identity Operators\n",
        "# Identity operators are used to compare the memory locations of two objects.\n",
        "\n",
        "# is: Returns True if both variables point to the same object in memory.\n",
        "x = [1, 2, 3]\n",
        "y = [1, 2, 3]\n",
        "z = x\n",
        "\n",
        "print(x is z) # True (x and z point to the same list object)\n",
        "print(x is y) # False (x and y are different list objects, even if they have the same contents)\n",
        "\n",
        "# is not: Returns True if both variables do NOT point to the same object in memory.\n",
        "print(x is not y) # True\n",
        "print(x is not z) # False\n",
        "\n",
        "# Important Note: For immutable objects like numbers and strings, Python may sometimes optimize by pointing multiple variables with the same value to the same memory location. This behavior is not guaranteed and should not be relied upon for general object comparison. Use `==` for value comparison and `is` for identity comparison.\n",
        "\n",
        "a = 10\n",
        "b = 10\n",
        "print(a is b) # May print True due to optimization for small integers\n",
        "\n",
        "s1 = \"hello\"\n",
        "s2 = \"hello\"\n",
        "print(s1 is s2) # May print True due to string interning"
      ],
      "metadata": {
        "colab": {
          "base_uri": "https://localhost:8080/"
        },
        "id": "8u4uwHAupV4y",
        "outputId": "4badfcce-4031-49b4-df2f-eeac63d0dc43"
      },
      "execution_count": null,
      "outputs": [
        {
          "output_type": "stream",
          "name": "stdout",
          "text": [
            "True\n",
            "False\n",
            "True\n",
            "False\n",
            "True\n",
            "True\n"
          ]
        }
      ]
    },
    {
      "cell_type": "code",
      "source": [
        "# Membership Operators\n",
        "# Membership operators are used to test whether a sequence (like strings, lists, tuples, sets, or dictionaries) contains a specified value.\n",
        "\n",
        "# in: Returns True if a value is found in the sequence.\n",
        "my_list = [1, 2, 3, 4, 5]\n",
        "print(3 in my_list)     # True\n",
        "print(6 in my_list)     # False\n",
        "\n",
        "my_string = \"hello world\"\n",
        "print(\"world\" in my_string) # True\n",
        "print(\"z\" in my_string)   # False\n",
        "\n",
        "my_tuple = (10, 20, 30)\n",
        "print(20 in my_tuple)   # True\n",
        "\n",
        "my_set = {1, 2, 3, 4}\n",
        "print(4 in my_set)      # True\n",
        "\n",
        "my_dict = {'name': 'Alice', 'age': 25}\n",
        "print('name' in my_dict)  # True (checks for keys)\n",
        "print('Alice' in my_dict) # False (does not check for values directly)\n",
        "print('Alice' in my_dict.values()) # True (explicitly checks values)\n",
        "\n",
        "# not in: Returns True if a value is NOT found in the sequence.\n",
        "my_list = [1, 2, 3, 4, 5]\n",
        "print(6 not in my_list)     # True\n",
        "print(3 not in my_list)     # False\n",
        "\n",
        "my_string = \"hello world\"\n",
        "print(\"z\" not in my_string)   # True\n",
        "print(\"world\" not in my_string) # False\n",
        "\n",
        "my_dict = {'name': 'Alice', 'age': 25}\n",
        "print('city' not in my_dict)  # True\n",
        "print('name' not in my_dict)  # False"
      ],
      "metadata": {
        "id": "oNoujloIpr8B"
      },
      "execution_count": null,
      "outputs": []
    },
    {
      "cell_type": "markdown",
      "source": [
        "# If-Else statement"
      ],
      "metadata": {
        "id": "RClBbS6F9VCF"
      }
    },
    {
      "cell_type": "code",
      "source": [
        "# Basic If statement\n",
        "x = 10\n",
        "\n",
        "if x > 5:\n",
        "  print(\"x is greater than 5\")\n",
        "\n",
        "# If-Else statement\n",
        "y = 3\n",
        "\n",
        "if y > 5:\n",
        "  print(\"y is greater than 5\")\n",
        "else:\n",
        "  print(\"y is not greater than 5\")\n",
        "\n",
        "# If-Elif-Else statement\n",
        "score = 85\n",
        "\n",
        "if score >= 90:\n",
        "  print(\"Grade A\")\n",
        "elif score >= 80:\n",
        "  print(\"Grade B\")\n",
        "elif score >= 70:\n",
        "  print(\"Grade C\")\n",
        "else:\n",
        "  print(\"Grade D\")\n"
      ],
      "metadata": {
        "id": "h-vHLQgt9a5f"
      },
      "execution_count": null,
      "outputs": []
    },
    {
      "cell_type": "markdown",
      "source": [
        "# Loops in python"
      ],
      "metadata": {
        "id": "kcf3Eg2v-fKS"
      }
    },
    {
      "cell_type": "code",
      "source": [
        "# While loop\n",
        "# Repeats a block of code as long as a condition is true.\n",
        "count = 0\n",
        "while count < 5:\n",
        "  print(f\"Count is: {count}\")\n",
        "  count += 1\n",
        "\n",
        "# For loop\n",
        "# Iterates over a sequence (like a list, tuple, string, range).\n",
        "my_list = [1, 2, 3, 4, 5]\n",
        "for item in my_list:\n",
        "  print(item)\n",
        "\n",
        "my_string = \"Python\"\n",
        "for char in my_string:\n",
        "  print(char)\n",
        "\n",
        "# Using range() with For loop\n",
        "# range(stop): numbers from 0 up to (but not including) stop\n",
        "for i in range(5):\n",
        "  print(i)\n",
        "\n",
        "# range(start, stop): numbers from start up to (but not including) stop\n",
        "for i in range(2, 7):\n",
        "  print(i)\n",
        "\n",
        "# range(start, stop, step): numbers from start up to (but not including) stop, with a specified step\n",
        "for i in range(0, 10, 2):\n",
        "  print(i)\n",
        "\n",
        "# Iterating over a dictionary\n",
        "my_dict = {'a': 1, 'b': 2, 'c': 3}\n",
        "\n",
        "# Iterate over keys\n",
        "for key in my_dict:\n",
        "  print(key)\n",
        "\n",
        "# Iterate over values\n",
        "for value in my_dict.values():\n",
        "  print(value)\n",
        "\n",
        "# Iterate over key-value pairs\n",
        "for key, value in my_dict.items():\n",
        "  print(f\"Key: {key}, Value: {value}\")\n",
        "\n",
        "# Break statement\n",
        "# Exits the loop immediately.\n",
        "for i in range(10):\n",
        "  if i == 5:\n",
        "    break\n",
        "  print(i)\n",
        "\n",
        "# Continue statement\n",
        "# Skips the rest of the current iteration and moves to the next.\n",
        "for i in range(10):\n",
        "  if i % 2 == 0:\n",
        "    continue # Skip even numbers\n",
        "  print(i)\n",
        "\n",
        "# Nested loops\n",
        "# A loop inside another loop.\n",
        "for i in range(3):\n",
        "  for j in range(2):\n",
        "    print(f\"Outer loop: {i}, Inner loop: {j}\")\n"
      ],
      "metadata": {
        "colab": {
          "base_uri": "https://localhost:8080/"
        },
        "id": "gT2lL9vA-jSa",
        "outputId": "15a4a6db-b4fa-4405-d26d-5de004df6cf4"
      },
      "execution_count": null,
      "outputs": [
        {
          "output_type": "stream",
          "name": "stdout",
          "text": [
            "Count is: 0\n",
            "Count is: 1\n",
            "Count is: 2\n",
            "Count is: 3\n",
            "Count is: 4\n",
            "1\n",
            "2\n",
            "3\n",
            "4\n",
            "5\n",
            "P\n",
            "y\n",
            "t\n",
            "h\n",
            "o\n",
            "n\n",
            "0\n",
            "1\n",
            "2\n",
            "3\n",
            "4\n",
            "2\n",
            "3\n",
            "4\n",
            "5\n",
            "6\n",
            "0\n",
            "2\n",
            "4\n",
            "6\n",
            "8\n",
            "a\n",
            "b\n",
            "c\n",
            "1\n",
            "2\n",
            "3\n",
            "Key: a, Value: 1\n",
            "Key: b, Value: 2\n",
            "Key: c, Value: 3\n",
            "0\n",
            "1\n",
            "2\n",
            "3\n",
            "4\n",
            "1\n",
            "3\n",
            "5\n",
            "7\n",
            "9\n",
            "Outer loop: 0, Inner loop: 0\n",
            "Outer loop: 0, Inner loop: 1\n",
            "Outer loop: 1, Inner loop: 0\n",
            "Outer loop: 1, Inner loop: 1\n",
            "Outer loop: 2, Inner loop: 0\n",
            "Outer loop: 2, Inner loop: 1\n"
          ]
        }
      ]
    },
    {
      "cell_type": "markdown",
      "source": [
        "# Function"
      ],
      "metadata": {
        "id": "PhOoVZDLGV0J"
      }
    },
    {
      "cell_type": "code",
      "source": [
        "def my_function():\n",
        "  \"\"\"This is a docstring explaining what the function does.\"\"\"\n",
        "  print(\"Hello from a function!\")\n",
        "\n",
        "# Calling the function\n",
        "my_function()\n",
        "\n",
        "# Function with parameters\n",
        "def greet(name):\n",
        "  print(f\"Hello, {name}!\")\n",
        "\n",
        "greet(\"Alice\")\n",
        "greet(\"Bob\")\n",
        "\n",
        "# Function with default parameter value\n",
        "def greet_default(name=\"World\"):\n",
        "  print(f\"Hello, {name}!\")\n",
        "\n",
        "greet_default()        # Uses the default value\n",
        "greet_default(\"Python\") # Overrides the default value\n",
        "\n",
        "# Function with return value\n",
        "def add(a, b):\n",
        "  return a + b\n",
        "\n",
        "result = add(5, 3)\n",
        "print(f\"The sum is: {result}\")\n",
        "\n",
        "# Function returning multiple values (as a tuple)\n",
        "def get_min_max(numbers):\n",
        "  return min(numbers), max(numbers)\n",
        "\n",
        "numbers = [1, 5, 2, 8, 3]\n",
        "minimum, maximum = get_min_max(numbers)\n",
        "print(f\"Minimum: {minimum}, Maximum: {maximum}\")\n",
        "\n",
        "# Arbitrary Arguments, *args (for a non-keyworded variable length argument list)\n",
        "def my_function_args(*kids):\n",
        "  print(\"The youngest child is \" + kids[2])\n",
        "\n",
        "my_function_args(\"Emil\", \"Tobias\", \"Linus\")\n",
        "\n",
        "# Keyword Arguments, **kwargs (for a keyworded variable length argument list)\n",
        "def my_function_kwargs(**kid):\n",
        "  print(\"His last name is \" + kid[\"lname\"])\n",
        "\n",
        "my_function_kwargs(fname = \"Tobias\", lname = \"Refsnes\")\n",
        "\n",
        "# Lambda Functions (Anonymous Functions)\n",
        "# A small anonymous function. A lambda function can take any number of arguments, but can only have one expression.\n",
        "x = lambda a : a + 10\n",
        "print(x(5))\n",
        "\n",
        "# Lambda functions can take multiple arguments\n",
        "x = lambda a, b : a * b\n",
        "print(x(5, 6))\n",
        "\n",
        "# Lambda functions can be used inside other functions\n",
        "def myfunc(n):\n",
        "  return lambda a : a * n\n",
        "\n",
        "mydoubler = myfunc(2)\n",
        "mytripler = myfunc(3)\n",
        "\n",
        "print(mydoubler(11))\n",
        "print(mytripler(11))"
      ],
      "metadata": {
        "colab": {
          "base_uri": "https://localhost:8080/"
        },
        "id": "hz8kOnrVGawT",
        "outputId": "b7a5e066-0196-446c-b5f4-3f3a0c051198"
      },
      "execution_count": null,
      "outputs": [
        {
          "output_type": "stream",
          "name": "stdout",
          "text": [
            "Hello from a function!\n",
            "Hello, Alice!\n",
            "Hello, Bob!\n",
            "Hello, World!\n",
            "Hello, Python!\n",
            "The sum is: 8\n",
            "Minimum: 1, Maximum: 8\n",
            "The youngest child is Linus\n",
            "His last name is Refsnes\n",
            "15\n",
            "30\n",
            "22\n",
            "33\n"
          ]
        }
      ]
    },
    {
      "cell_type": "markdown",
      "source": [
        "# Read and Write function"
      ],
      "metadata": {
        "id": "0RK4zrzlfT9u"
      }
    },
    {
      "cell_type": "code",
      "source": [
        "# Read and write file\n",
        "\n",
        "# Write to a file\n",
        "with open('my_file.txt', 'w') as f:\n",
        "    f.write('Hello, Colab!\\n')\n",
        "    f.write('This is a test file.')\n",
        "\n",
        "# Read from a file\n",
        "with open('my_file.txt', 'r') as f:\n",
        "    content = f.read()\n",
        "content"
      ],
      "metadata": {
        "colab": {
          "base_uri": "https://localhost:8080/",
          "height": 36
        },
        "id": "OJ5VSTUSfY9d",
        "outputId": "836ae501-a3db-4839-a96a-182a49f330ff"
      },
      "execution_count": null,
      "outputs": [
        {
          "output_type": "execute_result",
          "data": {
            "text/plain": [
              "'Hello, Colab!\\nThis is a test file.'"
            ],
            "application/vnd.google.colaboratory.intrinsic+json": {
              "type": "string"
            }
          },
          "metadata": {},
          "execution_count": 2
        }
      ]
    },
    {
      "cell_type": "markdown",
      "source": [
        "# Exception handling"
      ],
      "metadata": {
        "id": "srdBb9UjgmLO"
      }
    },
    {
      "cell_type": "code",
      "source": [
        "# Exception handling\n",
        "\n",
        "try:\n",
        "  # Code that might raise an exception\n",
        "  result = 10 / 0\n",
        "except ZeroDivisionError:\n",
        "  # Code to handle ZeroDivisionError\n",
        "  print(\"Error: Cannot divide by zero!\")\n",
        "except Exception as e:\n",
        "  # Code to handle any other type of exception\n",
        "  print(f\"An unexpected error occurred: {e}\")\n",
        "else:\n",
        "  # Code to run if no exception occurs in the try block\n",
        "  print(\"Division was successful!\")\n",
        "finally:\n",
        "  # Code that runs no matter what (whether an exception occurred or not)\n",
        "  print(\"This block always executes.\")\n",
        "\n",
        "# Example with a different potential error\n",
        "try:\n",
        "  my_list = [1, 2, 3]\n",
        "  print(my_list[5])\n",
        "except IndexError:\n",
        "  print(\"Error: Index is out of range!\")\n",
        "except Exception as e:\n",
        "  print(f\"An unexpected error occurred: {e}\")\n",
        "else:\n",
        "  print(\"Access was successful!\")\n",
        "finally:\n",
        "  print(\"This block always executes.\")\n",
        "\n",
        "# Raising a custom exception\n",
        "def validate_age(age):\n",
        "  if age < 0:\n",
        "    raise ValueError(\"Age cannot be negative\")\n",
        "  print(f\"Valid age: {age}\")\n",
        "\n",
        "try:\n",
        "  validate_age(-5)\n",
        "except ValueError as e:\n",
        "  print(f\"Caught an error: {e}\")\n",
        "\n",
        "try:\n",
        "  validate_age(30)\n",
        "except ValueError as e:\n",
        "  print(f\"Caught an error: {e}\")\n",
        "else:\n",
        "  print(\"Age validation successful.\")"
      ],
      "metadata": {
        "colab": {
          "base_uri": "https://localhost:8080/"
        },
        "id": "AnQLV9b0grB2",
        "outputId": "90f18ccc-e596-41cf-f366-291f420cfc7f"
      },
      "execution_count": null,
      "outputs": [
        {
          "output_type": "stream",
          "name": "stdout",
          "text": [
            "Error: Cannot divide by zero!\n",
            "This block always executes.\n",
            "Error: Index is out of range!\n",
            "This block always executes.\n",
            "Caught an error: Age cannot be negative\n",
            "Valid age: 30\n",
            "Age validation successful.\n"
          ]
        }
      ]
    },
    {
      "cell_type": "markdown",
      "source": [
        "# Class and Objects"
      ],
      "metadata": {
        "id": "Al_6Nmujg6NZ"
      }
    },
    {
      "cell_type": "code",
      "source": [
        "# class and object\n",
        "\n",
        "# Define a class\n",
        "class Dog:\n",
        "  # The __init__ method is the constructor for a class.\n",
        "  # It's called when you create a new object from the class.\n",
        "  # 'self' refers to the instance of the class itself.\n",
        "  def __init__(self, name, age):\n",
        "    self.name = name  # Attribute: The dog's name\n",
        "    self.age = age    # Attribute: The dog's age\n",
        "\n",
        "  # Method: A function defined inside a class\n",
        "  def bark(self):\n",
        "    print(f\"{self.name} says Woof!\")\n",
        "\n",
        "  def get_info(self):\n",
        "    return f\"{self.name} is {self.age} years old.\"\n",
        "\n",
        "# Create objects (instances) of the Dog class\n",
        "# This calls the __init__ method\n",
        "dog1 = Dog(\"Buddy\", 5)\n",
        "dog2 = Dog(\"Lucy\", 3)\n",
        "\n",
        "# Access attributes of the objects\n",
        "print(f\"Dog 1's name: {dog1.name}\")\n",
        "print(f\"Dog 2's age: {dog2.age}\")\n",
        "\n",
        "# Call methods on the objects\n",
        "dog1.bark()\n",
        "dog2.bark()\n",
        "\n",
        "print(dog1.get_info())\n",
        "print(dog2.get_info())\n"
      ],
      "metadata": {
        "colab": {
          "base_uri": "https://localhost:8080/"
        },
        "id": "rUXy_7vKg-Vs",
        "outputId": "89ca1a62-8b2c-4a77-a491-f40ccb5471a6"
      },
      "execution_count": null,
      "outputs": [
        {
          "output_type": "stream",
          "name": "stdout",
          "text": [
            "Dog 1's name: Buddy\n",
            "Dog 2's age: 3\n",
            "Buddy says Woof!\n",
            "Lucy says Woof!\n",
            "Buddy is 5 years old.\n",
            "Lucy is 3 years old.\n"
          ]
        }
      ]
    },
    {
      "cell_type": "markdown",
      "source": [
        "# Main function"
      ],
      "metadata": {
        "id": "OwoiRrknhdA6"
      }
    },
    {
      "cell_type": "code",
      "source": [
        "# Main function in python\n",
        "\n",
        "if __name__ == \"__main__\":\n",
        "    # Your main execution logic goes here\n",
        "    # This block will only run when the script is executed directly\n",
        "    print(\"This is the main execution block.\")\n",
        "\n",
        "    # Example usage of a function defined earlier\n",
        "    my_function()\n",
        "\n",
        "    # Example of calling a function with arguments\n",
        "    greet(\"World\")\n",
        "\n",
        "    # Example of calling a function with return value\n",
        "    sum_result = add(10, 20)\n",
        "    print(f\"Sum from main: {sum_result}\")\n",
        "\n",
        "    # Example of using a class\n",
        "    my_dog = Dog(\"Rex\", 7)\n",
        "    my_dog.bark()\n",
        "    print(my_dog.get_info())\n",
        "\n",
        "    # Example of using exception handling\n",
        "    try:\n",
        "        validate_age(45)\n",
        "    except ValueError as e:\n",
        "        print(f\"Caught error in main: {e}\")\n",
        "\n"
      ],
      "metadata": {
        "colab": {
          "base_uri": "https://localhost:8080/"
        },
        "id": "4H_IgkH4hgnd",
        "outputId": "493dde9a-4e97-4883-d9a0-4e2f4c557494"
      },
      "execution_count": null,
      "outputs": [
        {
          "output_type": "stream",
          "name": "stdout",
          "text": [
            "This is the main execution block.\n",
            "Hello from a function!\n",
            "Hello, World!\n",
            "Sum from main: 30\n",
            "Rex says Woof!\n",
            "Rex is 7 years old.\n",
            "Valid age: 45\n"
          ]
        }
      ]
    }
  ]
}