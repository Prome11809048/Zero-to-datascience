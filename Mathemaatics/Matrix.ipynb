{
  "nbformat": 4,
  "nbformat_minor": 0,
  "metadata": {
    "colab": {
      "provenance": []
    },
    "kernelspec": {
      "name": "python3",
      "display_name": "Python 3"
    },
    "language_info": {
      "name": "python"
    }
  },
  "cells": [
    {
      "cell_type": "code",
      "execution_count": null,
      "metadata": {
        "id": "kLMMsHmmzx4T"
      },
      "outputs": [],
      "source": [
        "import numpy as np\n"
      ]
    },
    {
      "cell_type": "markdown",
      "source": [
        "# Creating a Matrix using numpy"
      ],
      "metadata": {
        "id": "HP6Kp6Gt0Vtv"
      }
    },
    {
      "cell_type": "code",
      "source": [
        "matrix_1 = np.array([[2, 3],[6, 7]])\n",
        "print(matrix_1)"
      ],
      "metadata": {
        "colab": {
          "base_uri": "https://localhost:8080/"
        },
        "id": "du1VtXKj0chU",
        "outputId": "b7520513-2b4b-4783-e6a5-01336095e7b8"
      },
      "execution_count": null,
      "outputs": [
        {
          "output_type": "stream",
          "name": "stdout",
          "text": [
            "[[2 3]\n",
            " [6 7]]\n"
          ]
        }
      ]
    },
    {
      "cell_type": "code",
      "source": [
        "matrix_1.shape"
      ],
      "metadata": {
        "colab": {
          "base_uri": "https://localhost:8080/"
        },
        "id": "IdJXiQlQ1Pm6",
        "outputId": "e5f441f2-034a-4349-e4d3-0a8d7aa34d30"
      },
      "execution_count": null,
      "outputs": [
        {
          "output_type": "execute_result",
          "data": {
            "text/plain": [
              "(2, 2)"
            ]
          },
          "metadata": {},
          "execution_count": 5
        }
      ]
    },
    {
      "cell_type": "code",
      "source": [
        "matrix_2 = np.array([[10, 35, 45], [50, 64, 80], [20, 15, 90]])\n",
        "print(matrix_2)"
      ],
      "metadata": {
        "colab": {
          "base_uri": "https://localhost:8080/"
        },
        "id": "GYVlU5zi1m2n",
        "outputId": "08686742-932d-40ef-a7fc-6f6529a36dbb"
      },
      "execution_count": null,
      "outputs": [
        {
          "output_type": "stream",
          "name": "stdout",
          "text": [
            "[[10 35 45]\n",
            " [50 64 80]\n",
            " [20 15 90]]\n"
          ]
        }
      ]
    },
    {
      "cell_type": "code",
      "source": [
        "matrix_2.shape"
      ],
      "metadata": {
        "colab": {
          "base_uri": "https://localhost:8080/"
        },
        "id": "1q2jtBz22KAm",
        "outputId": "5b38630a-cb44-469f-889f-9ed7aaff75f6"
      },
      "execution_count": null,
      "outputs": [
        {
          "output_type": "execute_result",
          "data": {
            "text/plain": [
              "(3, 3)"
            ]
          },
          "metadata": {},
          "execution_count": 9
        }
      ]
    },
    {
      "cell_type": "markdown",
      "source": [
        "# Creating Matrix with Random Values"
      ],
      "metadata": {
        "id": "4PyiiET72WSQ"
      }
    },
    {
      "cell_type": "code",
      "source": [
        "random_matrix = np.random.rand(3,3)\n",
        "print(random_matrix)"
      ],
      "metadata": {
        "colab": {
          "base_uri": "https://localhost:8080/"
        },
        "id": "dKm09vvU2daO",
        "outputId": "d83880a8-fecf-4568-b55f-7c3f9b3fee4b"
      },
      "execution_count": null,
      "outputs": [
        {
          "output_type": "stream",
          "name": "stdout",
          "text": [
            "[[0.36197949 0.89228508 0.01755455]\n",
            " [0.38300814 0.69645864 0.50974403]\n",
            " [0.1384606  0.74550674 0.109669  ]]\n"
          ]
        }
      ]
    },
    {
      "cell_type": "code",
      "source": [
        "# creating matrix with random integer\n",
        "random_integer_matrix = np.random.randint(100, size=(4,5))\n",
        "print(random_integer_matrix)"
      ],
      "metadata": {
        "colab": {
          "base_uri": "https://localhost:8080/"
        },
        "id": "vlK8Kr2Her-1",
        "outputId": "49480384-7b2f-4afd-819c-7d6742e3bfe6"
      },
      "execution_count": null,
      "outputs": [
        {
          "output_type": "stream",
          "name": "stdout",
          "text": [
            "[[99 37 29 46 32]\n",
            " [25 11 91 39 68]\n",
            " [43  3 76 56 14]\n",
            " [47 15 78 60  9]]\n"
          ]
        }
      ]
    },
    {
      "cell_type": "code",
      "source": [
        "matrix_3 = np.ones((2,3))\n",
        "print(matrix_3)"
      ],
      "metadata": {
        "colab": {
          "base_uri": "https://localhost:8080/"
        },
        "id": "5gwG0chLgA5F",
        "outputId": "a09d829f-fc38-4d03-9427-8591207ba213"
      },
      "execution_count": null,
      "outputs": [
        {
          "output_type": "stream",
          "name": "stdout",
          "text": [
            "[[1. 1. 1.]\n",
            " [1. 1. 1.]]\n"
          ]
        }
      ]
    },
    {
      "cell_type": "code",
      "source": [
        "matrix_3 = np.ones((2,3), dtype = int)\n",
        "print(matrix_3)"
      ],
      "metadata": {
        "colab": {
          "base_uri": "https://localhost:8080/"
        },
        "id": "7-OsuUJIl27e",
        "outputId": "e8abdb6a-de33-4c77-d007-e78464299c9e"
      },
      "execution_count": null,
      "outputs": [
        {
          "output_type": "stream",
          "name": "stdout",
          "text": [
            "[[1 1 1]\n",
            " [1 1 1]]\n"
          ]
        }
      ]
    },
    {
      "cell_type": "code",
      "source": [
        "matrix_3 = np.ones((10,10), dtype = int)\n",
        "print(matrix_3)"
      ],
      "metadata": {
        "colab": {
          "base_uri": "https://localhost:8080/"
        },
        "id": "hb2_TwrGmEBy",
        "outputId": "0821e2f9-d89b-49f9-c329-07e7c4947b8b"
      },
      "execution_count": null,
      "outputs": [
        {
          "output_type": "stream",
          "name": "stdout",
          "text": [
            "[[1 1 1 1 1 1 1 1 1 1]\n",
            " [1 1 1 1 1 1 1 1 1 1]\n",
            " [1 1 1 1 1 1 1 1 1 1]\n",
            " [1 1 1 1 1 1 1 1 1 1]\n",
            " [1 1 1 1 1 1 1 1 1 1]\n",
            " [1 1 1 1 1 1 1 1 1 1]\n",
            " [1 1 1 1 1 1 1 1 1 1]\n",
            " [1 1 1 1 1 1 1 1 1 1]\n",
            " [1 1 1 1 1 1 1 1 1 1]\n",
            " [1 1 1 1 1 1 1 1 1 1]]\n"
          ]
        }
      ]
    },
    {
      "cell_type": "code",
      "source": [
        "null_matrix = np.zeros((4,4))\n",
        "print(null_matrix)"
      ],
      "metadata": {
        "colab": {
          "base_uri": "https://localhost:8080/"
        },
        "id": "uV7ssQ_mmnn1",
        "outputId": "5f7097e5-1ad1-4104-94fc-69d3a09481d5"
      },
      "execution_count": null,
      "outputs": [
        {
          "output_type": "stream",
          "name": "stdout",
          "text": [
            "[[0. 0. 0. 0.]\n",
            " [0. 0. 0. 0.]\n",
            " [0. 0. 0. 0.]\n",
            " [0. 0. 0. 0.]]\n"
          ]
        }
      ]
    },
    {
      "cell_type": "code",
      "source": [
        "null_matrix = np.zeros((4,4), dtype= int)\n",
        "print(null_matrix)"
      ],
      "metadata": {
        "colab": {
          "base_uri": "https://localhost:8080/"
        },
        "id": "4Q00uW-Imzxr",
        "outputId": "965dd0ee-474e-4ad8-93e1-85837ae3f8f8"
      },
      "execution_count": null,
      "outputs": [
        {
          "output_type": "stream",
          "name": "stdout",
          "text": [
            "[[0 0 0 0]\n",
            " [0 0 0 0]\n",
            " [0 0 0 0]\n",
            " [0 0 0 0]]\n"
          ]
        }
      ]
    },
    {
      "cell_type": "markdown",
      "source": [
        "#Identity Matrix"
      ],
      "metadata": {
        "id": "D6Qx8po_nSfm"
      }
    },
    {
      "cell_type": "code",
      "source": [
        "identity_matrix = np.eye(5,5)\n",
        "print(identity_matrix)"
      ],
      "metadata": {
        "colab": {
          "base_uri": "https://localhost:8080/"
        },
        "id": "ItjubrIInVqW",
        "outputId": "e0d8a2f6-6710-4548-e076-28897b6fbb11"
      },
      "execution_count": null,
      "outputs": [
        {
          "output_type": "stream",
          "name": "stdout",
          "text": [
            "[[1. 0. 0. 0. 0.]\n",
            " [0. 1. 0. 0. 0.]\n",
            " [0. 0. 1. 0. 0.]\n",
            " [0. 0. 0. 1. 0.]\n",
            " [0. 0. 0. 0. 1.]]\n"
          ]
        }
      ]
    },
    {
      "cell_type": "markdown",
      "source": [
        "# Transpose of a Matrix"
      ],
      "metadata": {
        "id": "n-G25z83oCJN"
      }
    },
    {
      "cell_type": "code",
      "source": [
        "# Matrix with random integer values\n",
        "a = np.random.randint(100, size=(4,3))\n",
        "print(a)"
      ],
      "metadata": {
        "colab": {
          "base_uri": "https://localhost:8080/"
        },
        "id": "rOaHuHidoI34",
        "outputId": "7a94b3ee-c8d5-4e1a-c9e2-932bf6b1be13"
      },
      "execution_count": null,
      "outputs": [
        {
          "output_type": "stream",
          "name": "stdout",
          "text": [
            "[[42  6 48]\n",
            " [48 78 13]\n",
            " [11 13  0]\n",
            " [56 57 18]]\n"
          ]
        }
      ]
    },
    {
      "cell_type": "code",
      "source": [
        "transpose_of_a = np.transpose(a)\n",
        "print(transpose_of_a)"
      ],
      "metadata": {
        "colab": {
          "base_uri": "https://localhost:8080/"
        },
        "id": "GF1qdMHvqskT",
        "outputId": "c898bd89-34f7-470d-aeb3-3af43e7bcca6"
      },
      "execution_count": null,
      "outputs": [
        {
          "output_type": "stream",
          "name": "stdout",
          "text": [
            "[[42 48 11 56]\n",
            " [ 6 78 13 57]\n",
            " [48 13  0 18]]\n"
          ]
        }
      ]
    },
    {
      "cell_type": "markdown",
      "source": [
        "# Matrix Operation"
      ],
      "metadata": {
        "id": "bZayfgKhP_Eq"
      }
    },
    {
      "cell_type": "markdown",
      "source": [
        "Two matrices are added if they have same shape"
      ],
      "metadata": {
        "id": "Xt0WM4rXw7mv"
      }
    },
    {
      "cell_type": "code",
      "source": [
        "# Creating two matrices\n",
        "\n",
        "A = np.array([[2,3],[4,5]])\n",
        "B = np.array([[6,7],[8,9]])\n",
        "sum = A+B\n",
        "print(sum)"
      ],
      "metadata": {
        "colab": {
          "base_uri": "https://localhost:8080/"
        },
        "id": "y3Sm5FOQxLfA",
        "outputId": "ac0eae9d-144c-4110-e9b6-4b60b513400b"
      },
      "execution_count": null,
      "outputs": [
        {
          "output_type": "stream",
          "name": "stdout",
          "text": [
            "[[ 8 10]\n",
            " [12 14]]\n"
          ]
        }
      ]
    },
    {
      "cell_type": "code",
      "source": [
        "matrix_1 = np.random.randint(10, size=(3,3))\n",
        "matrix_2 = np.random.randint(10, size=(3,3))\n",
        "print(matrix_1)\n",
        "print(matrix_2)\n",
        "sum_of_matrix = matrix_1 + matrix_2\n",
        "print(sum_of_matrix)"
      ],
      "metadata": {
        "colab": {
          "base_uri": "https://localhost:8080/"
        },
        "id": "ivyvYPxEyoL7",
        "outputId": "38e5fa06-208c-4171-cccf-ade618d6b71c"
      },
      "execution_count": null,
      "outputs": [
        {
          "output_type": "stream",
          "name": "stdout",
          "text": [
            "[[8 7 9]\n",
            " [2 3 8]\n",
            " [9 1 8]]\n",
            "[[8 3 5]\n",
            " [7 9 9]\n",
            " [3 4 0]]\n",
            "[[16 10 14]\n",
            " [ 9 12 17]\n",
            " [12  5  8]]\n"
          ]
        }
      ]
    },
    {
      "cell_type": "code",
      "source": [
        "#sub_of_matrix = matrix_1 - matrix_2\n",
        "sub_of_matrix = np.subtract(matrix_1, matrix_2)\n",
        "print(sub_of_matrix)"
      ],
      "metadata": {
        "colab": {
          "base_uri": "https://localhost:8080/"
        },
        "id": "ul9JMBHA0SLc",
        "outputId": "5518da87-233a-4403-8340-5cbf3b7cba95"
      },
      "execution_count": null,
      "outputs": [
        {
          "output_type": "stream",
          "name": "stdout",
          "text": [
            "[[ 0  4  4]\n",
            " [-5 -6 -1]\n",
            " [ 6 -3  8]]\n"
          ]
        }
      ]
    },
    {
      "cell_type": "markdown",
      "source": [
        "Multiplying matrix a scaler"
      ],
      "metadata": {
        "id": "5DT07GCo5m6Z"
      }
    },
    {
      "cell_type": "code",
      "source": [
        "x = 5\n",
        "y =np.random.randint(10, size = (4,3))\n",
        "print(y)\n",
        "product = np.multiply(x,y)\n",
        "print(product)"
      ],
      "metadata": {
        "colab": {
          "base_uri": "https://localhost:8080/"
        },
        "id": "eljiaZDm5tZ5",
        "outputId": "01b7aa4c-7bbd-4dcd-f274-991980ebf680"
      },
      "execution_count": null,
      "outputs": [
        {
          "output_type": "stream",
          "name": "stdout",
          "text": [
            "[[4 6 0]\n",
            " [8 0 1]\n",
            " [8 4 6]\n",
            " [1 2 0]]\n",
            "[[20 30  0]\n",
            " [40  0  5]\n",
            " [40 20 30]\n",
            " [ 5 10  0]]\n"
          ]
        }
      ]
    },
    {
      "cell_type": "markdown",
      "source": [
        "Multiplying 2 matrices"
      ],
      "metadata": {
        "id": "WDZvTUZ-6Y2Y"
      }
    },
    {
      "cell_type": "code",
      "source": [
        "# create two matrics with random values\n",
        "matrix_3 = np.random.randint(10, size=(3,3))\n",
        "matrix_4 = np.random.randint(10, size=(3,3))\n",
        "print(matrix_3)\n",
        "print(matrix_4)\n",
        "product_of_matrics = np.dot(matrix_3, matrix_4)\n",
        "print(product_of_matrics)"
      ],
      "metadata": {
        "colab": {
          "base_uri": "https://localhost:8080/"
        },
        "id": "pf5lRFRj6ejZ",
        "outputId": "73290f18-5564-41fc-e2ff-06d52ec7209f"
      },
      "execution_count": null,
      "outputs": [
        {
          "output_type": "stream",
          "name": "stdout",
          "text": [
            "[[9 5 0]\n",
            " [7 6 4]\n",
            " [1 3 9]]\n",
            "[[2 2 9]\n",
            " [4 2 7]\n",
            " [4 0 7]]\n",
            "[[ 38  28 116]\n",
            " [ 54  26 133]\n",
            " [ 50   8  93]]\n"
          ]
        }
      ]
    }
  ]
}