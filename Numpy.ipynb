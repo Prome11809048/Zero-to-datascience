{
  "nbformat": 4,
  "nbformat_minor": 0,
  "metadata": {
    "colab": {
      "provenance": [],
      "toc_visible": true
    },
    "kernelspec": {
      "name": "python3",
      "display_name": "Python 3"
    },
    "language_info": {
      "name": "python"
    }
  },
  "cells": [
    {
      "cell_type": "markdown",
      "source": [
        "NumPy (Numerical Python) is a powerful open-source library in Python used for numerical and scientific computing. It provides support for large, multi-dimensional arrays and matrices, along with a collection of mathematical functions to operate on these arrays efficiently. NumPy serves as the foundation for many other scientific libraries in Python, such as Pandas, SciPy, and scikit-learn.\n",
        "\n",
        "Advantages of NumPy array\n",
        "1. Allows several mathematical operations\n",
        "2. Fast operations"
      ],
      "metadata": {
        "id": "yW0eYcp0eT5T"
      }
    },
    {
      "cell_type": "code",
      "execution_count": 9,
      "metadata": {
        "id": "X1mP3RklePi8"
      },
      "outputs": [],
      "source": [
        "import numpy as np"
      ]
    },
    {
      "cell_type": "markdown",
      "source": [
        "List vs Numpy - Time taken"
      ],
      "metadata": {
        "id": "crJAsba2Exts"
      }
    },
    {
      "cell_type": "code",
      "source": [
        "from time import process_time"
      ],
      "metadata": {
        "id": "oHpa-0j9E2fu"
      },
      "execution_count": 29,
      "outputs": []
    },
    {
      "cell_type": "code",
      "source": [
        "# Time taken for python_list\n",
        "\n",
        "python_list = [i for i in range(10000)]\n",
        "\n",
        "start_time = process_time()\n",
        "\n",
        "python_list = [i+5 for i in python_list]\n",
        "\n",
        "end_time = process_time()\n",
        "\n",
        "print(end_time - start_time)"
      ],
      "metadata": {
        "colab": {
          "base_uri": "https://localhost:8080/"
        },
        "id": "hpd15ZTQFGB2",
        "outputId": "a68ce683-ece4-49e5-e394-eb0cccb1f85c"
      },
      "execution_count": 6,
      "outputs": [
        {
          "output_type": "stream",
          "name": "stdout",
          "text": [
            "0.0007948000000004285\n"
          ]
        }
      ]
    },
    {
      "cell_type": "code",
      "source": [
        "# Time taken by a numPy array\n",
        "\n",
        "np_array = np.array([i for i in range(10000)])\n",
        "\n",
        "start_time = process_time()\n",
        "\n",
        "np_array += 5\n",
        "\n",
        "end_time = process_time()\n",
        "\n",
        "print (end_time - start_time)\n",
        "\n",
        "\n"
      ],
      "metadata": {
        "colab": {
          "base_uri": "https://localhost:8080/"
        },
        "id": "1btYWhtjGv5a",
        "outputId": "5e06f137-738b-4af8-8ed9-1abef6257a99"
      },
      "execution_count": 12,
      "outputs": [
        {
          "output_type": "stream",
          "name": "stdout",
          "text": [
            "0.0005260229999990429\n"
          ]
        }
      ]
    },
    {
      "cell_type": "markdown",
      "source": [
        "Data type"
      ],
      "metadata": {
        "id": "2GhTpfl8LTdK"
      }
    },
    {
      "cell_type": "code",
      "source": [
        "# list\n",
        "\n",
        "list_1 = [1,2,3,4]\n",
        "print(list_1)\n",
        "type(list_1)\n",
        "\n",
        "# numpy_array\n",
        "\n",
        "np_array =np.array([1,2,3,4])\n",
        "print(np_array)\n",
        "type(np_array)"
      ],
      "metadata": {
        "colab": {
          "base_uri": "https://localhost:8080/"
        },
        "id": "kCW2ZdffLVY7",
        "outputId": "9835d355-54a7-4502-803e-adf2f845df38"
      },
      "execution_count": 14,
      "outputs": [
        {
          "output_type": "stream",
          "name": "stdout",
          "text": [
            "[1, 2, 3, 4]\n",
            "[1 2 3 4]\n"
          ]
        },
        {
          "output_type": "execute_result",
          "data": {
            "text/plain": [
              "numpy.ndarray"
            ]
          },
          "metadata": {},
          "execution_count": 14
        }
      ]
    },
    {
      "cell_type": "code",
      "source": [
        "# 1D array with numpy array\n",
        "\n",
        "a = np.array([1,2,3,4,5])\n",
        "\n",
        "print(a)\n",
        "a.shape"
      ],
      "metadata": {
        "colab": {
          "base_uri": "https://localhost:8080/"
        },
        "id": "nVvCtKReN8TI",
        "outputId": "cb7dc984-5961-4ddc-85a7-b0d2c4dd2bce"
      },
      "execution_count": 16,
      "outputs": [
        {
          "output_type": "stream",
          "name": "stdout",
          "text": [
            "[1 2 3 4 5]\n"
          ]
        },
        {
          "output_type": "execute_result",
          "data": {
            "text/plain": [
              "(5,)"
            ]
          },
          "metadata": {},
          "execution_count": 16
        }
      ]
    },
    {
      "cell_type": "code",
      "source": [
        "# 2D array with numpy array\n",
        "\n",
        "b = np.array([(1,2,3,4),(5,6,7,8)])\n",
        "print(b)\n",
        "b.shape"
      ],
      "metadata": {
        "colab": {
          "base_uri": "https://localhost:8080/"
        },
        "id": "5iNzBZn9OSE4",
        "outputId": "c385a499-2bad-4084-b0c7-198eb15b449a"
      },
      "execution_count": 20,
      "outputs": [
        {
          "output_type": "stream",
          "name": "stdout",
          "text": [
            "[[1 2 3 4]\n",
            " [5 6 7 8]]\n"
          ]
        },
        {
          "output_type": "execute_result",
          "data": {
            "text/plain": [
              "(2, 4)"
            ]
          },
          "metadata": {},
          "execution_count": 20
        }
      ]
    },
    {
      "cell_type": "code",
      "source": [
        "# 3D array with numpy array\n",
        "\n",
        "c = np.array([\n",
        "    [[1, 2, 3, 4],\n",
        "     [5, 6, 7, 8],\n",
        "     [9, 10, 11, 12]],\n",
        "\n",
        "    [[13, 14, 15, 16],\n",
        "     [17, 18, 19, 20],\n",
        "     [21, 22, 23, 24]]\n",
        "])\n",
        "\n",
        "print(c)\n",
        "c.shape\n",
        "\n"
      ],
      "metadata": {
        "colab": {
          "base_uri": "https://localhost:8080/"
        },
        "id": "6h9IgfJnPAct",
        "outputId": "3f29c525-8a00-4ad6-df85-da0f50b721fe"
      },
      "execution_count": 21,
      "outputs": [
        {
          "output_type": "stream",
          "name": "stdout",
          "text": [
            "[[[ 1  2  3  4]\n",
            "  [ 5  6  7  8]\n",
            "  [ 9 10 11 12]]\n",
            "\n",
            " [[13 14 15 16]\n",
            "  [17 18 19 20]\n",
            "  [21 22 23 24]]]\n"
          ]
        },
        {
          "output_type": "execute_result",
          "data": {
            "text/plain": [
              "(2, 3, 4)"
            ]
          },
          "metadata": {},
          "execution_count": 21
        }
      ]
    },
    {
      "cell_type": "code",
      "source": [
        "# float datatype\n",
        "d = np.array([(1,2,3,4), (5,6,7,8)], dtype = float)\n",
        "print(d)"
      ],
      "metadata": {
        "colab": {
          "base_uri": "https://localhost:8080/"
        },
        "id": "IcznaAa3QXWb",
        "outputId": "01844139-27d2-4dc6-ed61-6ae3e09f3fef"
      },
      "execution_count": 23,
      "outputs": [
        {
          "output_type": "stream",
          "name": "stdout",
          "text": [
            "[[1. 2. 3. 4.]\n",
            " [5. 6. 7. 8.]]\n"
          ]
        }
      ]
    },
    {
      "cell_type": "code",
      "source": [
        "#Initial placeholder in numPy array\n",
        "x = np.zeros((4,5))\n",
        "print(x)"
      ],
      "metadata": {
        "colab": {
          "base_uri": "https://localhost:8080/"
        },
        "id": "K2kqqRcjDFbK",
        "outputId": "811dd2d9-cd3b-485d-f3c8-096c57172ad0"
      },
      "execution_count": 3,
      "outputs": [
        {
          "output_type": "stream",
          "name": "stdout",
          "text": [
            "[[0. 0. 0. 0. 0.]\n",
            " [0. 0. 0. 0. 0.]\n",
            " [0. 0. 0. 0. 0.]\n",
            " [0. 0. 0. 0. 0.]]\n"
          ]
        }
      ]
    },
    {
      "cell_type": "code",
      "source": [
        "# Create numPy array with ones\n",
        "y = np.ones((3,3))\n",
        "print(y)"
      ],
      "metadata": {
        "colab": {
          "base_uri": "https://localhost:8080/"
        },
        "id": "d97gqlzODwK_",
        "outputId": "10db37b1-2587-4599-9509-fb9c4a35c33b"
      },
      "execution_count": 4,
      "outputs": [
        {
          "output_type": "stream",
          "name": "stdout",
          "text": [
            "[[1. 1. 1.]\n",
            " [1. 1. 1.]\n",
            " [1. 1. 1.]]\n"
          ]
        }
      ]
    },
    {
      "cell_type": "code",
      "source": [
        "# Array with particular values\n",
        "z = np.full((5,4), 5)\n",
        "print(z)"
      ],
      "metadata": {
        "colab": {
          "base_uri": "https://localhost:8080/"
        },
        "id": "ztCPNRSgEKZi",
        "outputId": "0c8928a7-49e7-4108-8150-7bb01a81b5e5"
      },
      "execution_count": 5,
      "outputs": [
        {
          "output_type": "stream",
          "name": "stdout",
          "text": [
            "[[5 5 5 5]\n",
            " [5 5 5 5]\n",
            " [5 5 5 5]\n",
            " [5 5 5 5]\n",
            " [5 5 5 5]]\n"
          ]
        }
      ]
    },
    {
      "cell_type": "code",
      "source": [
        "# Create an identity matrix\n",
        "p = np.eye(4)\n",
        "print(p)"
      ],
      "metadata": {
        "colab": {
          "base_uri": "https://localhost:8080/"
        },
        "id": "st1KUiAVFwOk",
        "outputId": "bcc8dfee-2549-4046-b0ad-73e94bc039af"
      },
      "execution_count": 7,
      "outputs": [
        {
          "output_type": "stream",
          "name": "stdout",
          "text": [
            "[[1. 0. 0. 0.]\n",
            " [0. 1. 0. 0.]\n",
            " [0. 0. 1. 0.]\n",
            " [0. 0. 0. 1.]]\n"
          ]
        }
      ]
    },
    {
      "cell_type": "code",
      "source": [
        "# Create a numpy array with random values\n",
        "pq = np.random.random((3,4))\n",
        "print(pq)"
      ],
      "metadata": {
        "colab": {
          "base_uri": "https://localhost:8080/"
        },
        "id": "s54timMEGMXE",
        "outputId": "c15841f9-cee3-430a-be37-d14bd8b14efd"
      },
      "execution_count": 11,
      "outputs": [
        {
          "output_type": "stream",
          "name": "stdout",
          "text": [
            "[[0.26296071 0.2388526  0.5997989  0.77984986]\n",
            " [0.75465615 0.05772393 0.44407628 0.31241607]\n",
            " [0.06592716 0.83370178 0.71880541 0.76104616]]\n"
          ]
        }
      ]
    },
    {
      "cell_type": "code",
      "source": [
        "# Random integer values array within a specific range\n",
        "q = np.random.randint(10,100,(3,5))\n",
        "print(q)\n"
      ],
      "metadata": {
        "colab": {
          "base_uri": "https://localhost:8080/"
        },
        "id": "K3KOmQSOGyhY",
        "outputId": "3a4ba7a1-f20d-4a23-822d-fb74d32440d8"
      },
      "execution_count": 12,
      "outputs": [
        {
          "output_type": "stream",
          "name": "stdout",
          "text": [
            "[[55 67 57 56 86]\n",
            " [61 70 84 22 32]\n",
            " [31 52 31 82 58]]\n"
          ]
        }
      ]
    },
    {
      "cell_type": "code",
      "source": [
        "# Array of evenly spaced values\n",
        "d = np.linspace(10,30,5)\n",
        "print(d)"
      ],
      "metadata": {
        "colab": {
          "base_uri": "https://localhost:8080/"
        },
        "id": "957uAmtkHW68",
        "outputId": "588119a1-b10e-41a7-8235-e1062dcf5c87"
      },
      "execution_count": 14,
      "outputs": [
        {
          "output_type": "stream",
          "name": "stdout",
          "text": [
            "[10. 15. 20. 25. 30.]\n"
          ]
        }
      ]
    },
    {
      "cell_type": "code",
      "source": [
        "# Array of evenly spaced values -----> specifing the step\n",
        "e = np.arange(10,30,5)\n",
        "print(e)"
      ],
      "metadata": {
        "colab": {
          "base_uri": "https://localhost:8080/"
        },
        "id": "7RTN1O_NIFg0",
        "outputId": "04ea50ef-e7a7-48c1-96ed-e938157e4106"
      },
      "execution_count": 15,
      "outputs": [
        {
          "output_type": "stream",
          "name": "stdout",
          "text": [
            "[10 15 20 25]\n"
          ]
        }
      ]
    },
    {
      "cell_type": "code",
      "source": [
        "# Convert a list to numpy array\n",
        "list_1 = [10, 20, 30, 40, 50]\n",
        "np_array = np.asarray(list_1)\n",
        "print(np_array)\n",
        "type(np_array)"
      ],
      "metadata": {
        "colab": {
          "base_uri": "https://localhost:8080/"
        },
        "id": "03p02QnsIgem",
        "outputId": "3de8ed53-fc45-4578-9bf7-bd531bcbb4e9"
      },
      "execution_count": 16,
      "outputs": [
        {
          "output_type": "stream",
          "name": "stdout",
          "text": [
            "[10 20 30 40 50]\n"
          ]
        },
        {
          "output_type": "execute_result",
          "data": {
            "text/plain": [
              "numpy.ndarray"
            ]
          },
          "metadata": {},
          "execution_count": 16
        }
      ]
    },
    {
      "cell_type": "code",
      "source": [
        "# Analysing a numpy array\n",
        "c =  np.random.randint(10,90,(5,5))\n",
        "print(c)"
      ],
      "metadata": {
        "colab": {
          "base_uri": "https://localhost:8080/"
        },
        "id": "hU769y86LTPa",
        "outputId": "cefec8eb-14c7-4f30-cf94-18de25ff3e05"
      },
      "execution_count": 19,
      "outputs": [
        {
          "output_type": "stream",
          "name": "stdout",
          "text": [
            "[[50 45 82 87 17]\n",
            " [80 24 47 28 78]\n",
            " [87 66 18 61 81]\n",
            " [57 43 22 16 68]\n",
            " [12 58 77 26 20]]\n"
          ]
        }
      ]
    },
    {
      "cell_type": "code",
      "source": [
        "# Array Dimension\n",
        "print(c.shape)\n",
        "\n",
        "# Number of dimensions\n",
        "print(c.ndim)\n",
        "\n",
        "# Number of elements in an array\n",
        "print(c.size)\n",
        "\n",
        "#Check the datatype present in the array\n",
        "\n",
        "print(c.dtype)"
      ],
      "metadata": {
        "colab": {
          "base_uri": "https://localhost:8080/"
        },
        "id": "glWmkk73LlNF",
        "outputId": "7cafb32f-df36-4563-dd4e-6cacbf72e034"
      },
      "execution_count": 23,
      "outputs": [
        {
          "output_type": "stream",
          "name": "stdout",
          "text": [
            "(5, 5)\n",
            "2\n",
            "25\n",
            "int64\n"
          ]
        }
      ]
    },
    {
      "cell_type": "code",
      "source": [
        "# Mathematical operations on a np array\n",
        "aa = np.random.randint(0, 10, (3,3))\n",
        "bb = np.random.randint(10, 20, (3,3))\n",
        "print(aa)\n",
        "print(bb)\n",
        "print(aa+bb)\n",
        "print(aa-bb)\n",
        "print(aa*bb)\n",
        "print(aa/bb)"
      ],
      "metadata": {
        "colab": {
          "base_uri": "https://localhost:8080/"
        },
        "id": "_Q0PJtv-Mutx",
        "outputId": "0f8119fd-3226-45e5-8e2c-a5ba27b07342"
      },
      "execution_count": 35,
      "outputs": [
        {
          "output_type": "stream",
          "name": "stdout",
          "text": [
            "[[3 7 8]\n",
            " [5 2 3]\n",
            " [9 6 7]]\n",
            "[[14 17 11]\n",
            " [16 13 13]\n",
            " [15 19 13]]\n",
            "[[17 24 19]\n",
            " [21 15 16]\n",
            " [24 25 20]]\n",
            "[[-11 -10  -3]\n",
            " [-11 -11 -10]\n",
            " [ -6 -13  -6]]\n",
            "[[ 42 119  88]\n",
            " [ 80  26  39]\n",
            " [135 114  91]]\n",
            "[[0.21428571 0.41176471 0.72727273]\n",
            " [0.3125     0.15384615 0.23076923]\n",
            " [0.6        0.31578947 0.53846154]]\n"
          ]
        }
      ]
    },
    {
      "cell_type": "code",
      "source": [
        "# Another way\n",
        "cc = np.random.randint(20, 30, (3,3))\n",
        "dd = np.random.randint(10, 20, (3,3))\n",
        "print(cc)\n",
        "print(dd)\n",
        "print (np.add(cc,dd))\n",
        "print (np.subtract(cc,dd))\n",
        "print (np.multiply(cc,dd))\n",
        "print (np.divide(cc,dd))"
      ],
      "metadata": {
        "colab": {
          "base_uri": "https://localhost:8080/"
        },
        "id": "Jq3JLdGVPDsn",
        "outputId": "b71c2c7c-f10a-40b4-bd00-2298eab435fc"
      },
      "execution_count": 37,
      "outputs": [
        {
          "output_type": "stream",
          "name": "stdout",
          "text": [
            "[[21 27 29]\n",
            " [23 25 22]\n",
            " [20 28 27]]\n",
            "[[11 12 19]\n",
            " [12 19 19]\n",
            " [17 19 14]]\n",
            "[[32 39 48]\n",
            " [35 44 41]\n",
            " [37 47 41]]\n",
            "[[10 15 10]\n",
            " [11  6  3]\n",
            " [ 3  9 13]]\n",
            "[[231 324 551]\n",
            " [276 475 418]\n",
            " [340 532 378]]\n",
            "[[1.90909091 2.25       1.52631579]\n",
            " [1.91666667 1.31578947 1.15789474]\n",
            " [1.17647059 1.47368421 1.92857143]]\n"
          ]
        }
      ]
    },
    {
      "cell_type": "code",
      "source": [
        "# Array manipulation\n",
        "array = np.random.randint(0,10,(2,3))\n",
        "print(array)\n",
        "print(array.shape)\n",
        "tran = np.transpose(array)\n",
        "print(tran)\n",
        "print(tran.shape)\n",
        "\n",
        "# Another way\n",
        "tran2 = array.T\n",
        "print(tran2)\n",
        "print(tran2.shape)"
      ],
      "metadata": {
        "colab": {
          "base_uri": "https://localhost:8080/"
        },
        "id": "nGqycGNqQsxW",
        "outputId": "1f3e251a-fa28-4db4-efb6-df8cfb9e5a6f"
      },
      "execution_count": 41,
      "outputs": [
        {
          "output_type": "stream",
          "name": "stdout",
          "text": [
            "[[0 3 4]\n",
            " [4 4 8]]\n",
            "(2, 3)\n",
            "[[0 4]\n",
            " [3 4]\n",
            " [4 8]]\n",
            "(3, 2)\n",
            "[[0 4]\n",
            " [3 4]\n",
            " [4 8]]\n",
            "(3, 2)\n"
          ]
        }
      ]
    },
    {
      "cell_type": "code",
      "source": [
        "# Reshaping array\n",
        "rp = np.random.randint(0,10,(2,3))\n",
        "print(rp)\n",
        "print(rp.shape)\n",
        "reshaped = np.reshape(re, (3,2))\n",
        "print(reshaped)\n",
        "print(reshaped.shape)"
      ],
      "metadata": {
        "colab": {
          "base_uri": "https://localhost:8080/"
        },
        "id": "buFnPw3NRmbr",
        "outputId": "342a1caf-ac56-452b-f5fb-6542a03085bf"
      },
      "execution_count": 43,
      "outputs": [
        {
          "output_type": "stream",
          "name": "stdout",
          "text": [
            "[[9 7 3]\n",
            " [0 4 8]]\n",
            "(2, 3)\n",
            "[[0 1]\n",
            " [7 8]\n",
            " [8 9]]\n",
            "(3, 2)\n"
          ]
        }
      ]
    }
  ]
}