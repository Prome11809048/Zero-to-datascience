{
  "nbformat": 4,
  "nbformat_minor": 0,
  "metadata": {
    "colab": {
      "provenance": []
    },
    "kernelspec": {
      "name": "python3",
      "display_name": "Python 3"
    },
    "language_info": {
      "name": "python"
    }
  },
  "cells": [
    {
      "cell_type": "markdown",
      "source": [
        "Importing the dependencies"
      ],
      "metadata": {
        "id": "kVZ0V0fjZc2G"
      }
    },
    {
      "cell_type": "markdown",
      "source": [
        "Scikit-learn (sklearn) is a powerful and easy-to-use Python library for machine learning. It provides simple tools for data mining and data analysis, and is built on top of NumPy, SciPy, and matplotlib. Scikit-learn includes a wide range of algorithms for classification, regression, clustering, dimensionality reduction, model selection, and preprocessing, making it ideal for both beginners and experts in machine learning."
      ],
      "metadata": {
        "id": "hVDLWTjrZ8ig"
      }
    },
    {
      "cell_type": "code",
      "source": [
        "import numpy as np\n",
        "import pandas as pd\n",
        "from sklearn.preprocessing import StandardScaler\n",
        "from sklearn.model_selection import train_test_split"
      ],
      "metadata": {
        "id": "FHADUVRFZhyn"
      },
      "execution_count": null,
      "outputs": []
    },
    {
      "cell_type": "markdown",
      "source": [
        "Data collection and Data-Pre-processing"
      ],
      "metadata": {
        "id": "JFG24rTQa0SA"
      }
    },
    {
      "cell_type": "code",
      "source": [
        "# loading csv file into pandas dataframe\n",
        "diabetes_data = pd.read_csv('diabetes.csv')"
      ],
      "metadata": {
        "id": "f6sZQbLBa9A-"
      },
      "execution_count": null,
      "outputs": []
    },
    {
      "cell_type": "code",
      "source": [
        "# first five rows of the dataframe\n",
        "diabetes_data.head()"
      ],
      "metadata": {
        "id": "uWd9bQf88J1W"
      },
      "execution_count": null,
      "outputs": []
    },
    {
      "cell_type": "code",
      "source": [
        "# number of rows and columns\n",
        "diabetes_data.shape"
      ],
      "metadata": {
        "colab": {
          "base_uri": "https://localhost:8080/"
        },
        "id": "htzdRaHH-CE4",
        "outputId": "0b9f9eed-a28c-4d8c-bccc-369b6f96e5e2"
      },
      "execution_count": null,
      "outputs": [
        {
          "output_type": "execute_result",
          "data": {
            "text/plain": [
              "(768, 9)"
            ]
          },
          "metadata": {},
          "execution_count": 9
        }
      ]
    },
    {
      "cell_type": "code",
      "source": [
        "# For analysis\n",
        "diabetes_data.describe()"
      ],
      "metadata": {
        "id": "NxPpppo5-icp"
      },
      "execution_count": null,
      "outputs": []
    },
    {
      "cell_type": "markdown",
      "source": [
        "Separating Features and Target"
      ],
      "metadata": {
        "id": "PNZpR-Ze-7gk"
      }
    },
    {
      "cell_type": "code",
      "source": [
        "X = diabetes_data.drop(columns= 'Outcome', axis = 1)\n",
        "Y = diabetes_data['Outcome']"
      ],
      "metadata": {
        "id": "xkkx5Wfa_DN0"
      },
      "execution_count": null,
      "outputs": []
    },
    {
      "cell_type": "code",
      "source": [
        "print(X)"
      ],
      "metadata": {
        "id": "Sh5xrJDN_wMw"
      },
      "execution_count": null,
      "outputs": []
    },
    {
      "cell_type": "code",
      "source": [
        "print(Y)"
      ],
      "metadata": {
        "id": "MLBUIk6J_2Oh"
      },
      "execution_count": null,
      "outputs": []
    },
    {
      "cell_type": "markdown",
      "source": [
        "Data Standardization"
      ],
      "metadata": {
        "id": "-AAbCl7qBeYM"
      }
    },
    {
      "cell_type": "code",
      "source": [
        "scaler = StandardScaler()"
      ],
      "metadata": {
        "id": "WOCsckqyBjiH"
      },
      "execution_count": null,
      "outputs": []
    },
    {
      "cell_type": "code",
      "source": [
        "standardized_data = scaler.fit_transform(X)"
      ],
      "metadata": {
        "id": "bhrrgPesB1rX"
      },
      "execution_count": null,
      "outputs": []
    },
    {
      "cell_type": "code",
      "source": [
        "print(standardized_data)"
      ],
      "metadata": {
        "id": "76_SuT0FCoqa"
      },
      "execution_count": null,
      "outputs": []
    },
    {
      "cell_type": "code",
      "source": [
        "X = standardized_data"
      ],
      "metadata": {
        "id": "zvChjdmXFNsM"
      },
      "execution_count": null,
      "outputs": []
    },
    {
      "cell_type": "code",
      "source": [
        "print(X)"
      ],
      "metadata": {
        "id": "AiQIjI96Fa9O"
      },
      "execution_count": null,
      "outputs": []
    },
    {
      "cell_type": "markdown",
      "source": [
        "Splitting the dataset into Training data and Testing data"
      ],
      "metadata": {
        "id": "5JCvPaJ7C4Xu"
      }
    },
    {
      "cell_type": "code",
      "source": [
        "X_train, X_test, Y_train, Y_test = train_test_split(X, Y, test_size = 0.2, stratify = Y, random_state = 2)"
      ],
      "metadata": {
        "id": "9PjWYB_tDDAD"
      },
      "execution_count": null,
      "outputs": []
    },
    {
      "cell_type": "code",
      "source": [
        "print(X.shape, X_train.shape, X_test.shape)"
      ],
      "metadata": {
        "colab": {
          "base_uri": "https://localhost:8080/"
        },
        "id": "0j8-1FH6F3HN",
        "outputId": "38301bbe-09ec-4e14-bf0e-550d00f54fb4"
      },
      "execution_count": null,
      "outputs": [
        {
          "output_type": "stream",
          "name": "stdout",
          "text": [
            "(768, 8) (614, 8) (154, 8)\n"
          ]
        }
      ]
    },
    {
      "cell_type": "code",
      "source": [
        "print(Y.shape, Y_train.shape, Y_test.shape)"
      ],
      "metadata": {
        "colab": {
          "base_uri": "https://localhost:8080/"
        },
        "id": "XNmE05pnGN_V",
        "outputId": "71387b34-090b-47dc-9341-0691e2d90bd1"
      },
      "execution_count": null,
      "outputs": [
        {
          "output_type": "stream",
          "name": "stdout",
          "text": [
            "(768,) (614,) (154,)\n"
          ]
        }
      ]
    }
  ]
}